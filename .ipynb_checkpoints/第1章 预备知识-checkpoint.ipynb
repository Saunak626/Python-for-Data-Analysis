{
 "cells": [
  {
   "cell_type": "markdown",
   "metadata": {
    "toc": true
   },
   "source": [
    "<h1>Table of Contents<span class=\"tocSkip\"></span></h1>\n",
    "<div class=\"toc\"><ul class=\"toc-item\"><li><span><a href=\"#本书的内容\" data-toc-modified-id=\"本书的内容-1\"><span class=\"toc-item-num\">1&nbsp;&nbsp;</span>本书的内容</a></span><ul class=\"toc-item\"><li><span><a href=\"#什么种类的数据\" data-toc-modified-id=\"什么种类的数据-1.1\"><span class=\"toc-item-num\">1.1&nbsp;&nbsp;</span>什么种类的数据</a></span></li></ul></li><li><span><a href=\"#为什么使用Python做数据分析\" data-toc-modified-id=\"为什么使用Python做数据分析-2\"><span class=\"toc-item-num\">2&nbsp;&nbsp;</span>为什么使用Python做数据分析</a></span><ul class=\"toc-item\"><li><span><a href=\"#Python作为胶水语言\" data-toc-modified-id=\"Python作为胶水语言-2.1\"><span class=\"toc-item-num\">2.1&nbsp;&nbsp;</span>Python作为胶水语言</a></span></li><li><span><a href=\"#解决“两种语言”问题\" data-toc-modified-id=\"解决“两种语言”问题-2.2\"><span class=\"toc-item-num\">2.2&nbsp;&nbsp;</span>解决“两种语言”问题</a></span></li><li><span><a href=\"#什么情况下不使用Python\" data-toc-modified-id=\"什么情况下不使用Python-2.3\"><span class=\"toc-item-num\">2.3&nbsp;&nbsp;</span>什么情况下不使用Python</a></span></li></ul></li><li><span><a href=\"#重要的Python库\" data-toc-modified-id=\"重要的Python库-3\"><span class=\"toc-item-num\">3&nbsp;&nbsp;</span>重要的Python库</a></span><ul class=\"toc-item\"><li><span><a href=\"#Numpy\" data-toc-modified-id=\"Numpy-3.1\"><span class=\"toc-item-num\">3.1&nbsp;&nbsp;</span>Numpy</a></span></li><li><span><a href=\"#Pandas\" data-toc-modified-id=\"Pandas-3.2\"><span class=\"toc-item-num\">3.2&nbsp;&nbsp;</span>Pandas</a></span></li><li><span><a href=\"#Matplotlib\" data-toc-modified-id=\"Matplotlib-3.3\"><span class=\"toc-item-num\">3.3&nbsp;&nbsp;</span>Matplotlib</a></span></li><li><span><a href=\"#IPython-and-Jupyter\" data-toc-modified-id=\"IPython-and-Jupyter-3.4\"><span class=\"toc-item-num\">3.4&nbsp;&nbsp;</span>IPython and Jupyter</a></span></li><li><span><a href=\"#SciPy\" data-toc-modified-id=\"SciPy-3.5\"><span class=\"toc-item-num\">3.5&nbsp;&nbsp;</span>SciPy</a></span></li><li><span><a href=\"#scikit-learn\" data-toc-modified-id=\"scikit-learn-3.6\"><span class=\"toc-item-num\">3.6&nbsp;&nbsp;</span>scikit-learn</a></span></li><li><span><a href=\"#statsmodels\" data-toc-modified-id=\"statsmodels-3.7\"><span class=\"toc-item-num\">3.7&nbsp;&nbsp;</span>statsmodels</a></span></li></ul></li><li><span><a href=\"#社区和会议\" data-toc-modified-id=\"社区和会议-4\"><span class=\"toc-item-num\">4&nbsp;&nbsp;</span>社区和会议</a></span></li><li><span><a href=\"#本书导航\" data-toc-modified-id=\"本书导航-5\"><span class=\"toc-item-num\">5&nbsp;&nbsp;</span>本书导航</a></span></li><li><span><a href=\"#引入惯例\" data-toc-modified-id=\"引入惯例-6\"><span class=\"toc-item-num\">6&nbsp;&nbsp;</span>引入惯例</a></span></li><li><span><a href=\"#行话\" data-toc-modified-id=\"行话-7\"><span class=\"toc-item-num\">7&nbsp;&nbsp;</span>行话</a></span></li></ul></div>"
   ]
  },
  {
   "cell_type": "markdown",
   "metadata": {},
   "source": [
    "\n",
    "\n",
    "# 本书的内容\n",
    "\n",
    "这本书关心的是如何用Python对数据进行处理和清洗等操作。本书的目的是作为一个指南，讲解使用Python语言和它的一些处理数据的库和工具，这能让我们成为一个有效率的数据分析师（data analyst）。本书会告诉我们，使用Python语言的情况下，我们需要用那些工具来进行数据分析。\n",
    "\n",
    "## 什么种类的数据\n",
    "\n",
    "我们说的数据指的是`结构化的数据(structured data)`，比如：\n",
    "\n",
    "- 表格型数据，每一列有不同的类型（字符串，数字，日期等）。这种情况是我们最常见到的，常见于用tab-或逗号分隔的文件（比如CSV文件）\n",
    "- 多维数组（Multidimensional arrays，比如矩阵）\n",
    "- 用一列作为键（比如SQL中的主键和外键），整合多个表格的数据\n",
    "- 时间序列数据\n",
    "\n",
    "大部分数据都可以被转化为结构化数据，方便进行分析和建模。如果无法转化，那么我们可以从数据集中抽取特征，做成一个结构化的形式。举个例子，新闻可以被处理为单词频率表格，然后我们可以对其进行情感分析（sentiment analysis）。\n",
    "\n",
    "表格型程序，比如微软的Excel，可能是当今最广泛的数据分析工具，所以没必要把数据分析想得很难。"
   ]
  },
  {
   "cell_type": "markdown",
   "metadata": {},
   "source": [
    "# 为什么使用Python做数据分析\n",
    "\n",
    "在数据分析、交互式计算以及数据可视化方面，Python将不可避免地与其他开源和商业的领域特 定编程语言/工具进行对比，如R、MATLAB、SAS、Stata等。近年来，由于Python的库（例如 pandas和scikit-learn）不断改良，使其成为数据分析任务的一个优选方案。结合其在通用编程方 面的强大实力，我们完全可以只使用Python这一种语言构建以数据为中心的应用。\n",
    "\n",
    "## Python作为胶水语言\n",
    "\n",
    "Python成为成功的科学计算工具的部分原因是，它能够轻松地集成C、C++以及Fortran代码。大部 分现代计算环境都利用了一些Fortran和C库来实现线性代数、优选、积分、快速傅里叶变换以及其他诸如此类的算法。许多企业和国家实验室也利用Python来“粘合”那些已经用了多年的遗留软件系统。 \n",
    "\n",
    "大多数软件都是由两部分代码组成的：少量需要占用大部分执行时间的代码，以及大量不经常执行 的“胶水代码”。大部分情况下，胶水代码的执行时间是微不足道的。开发人员的精力几乎都是花在 优化计算瓶颈上面，有时更是直接转用更低级的语言（比如C）\n",
    "\n",
    "## 解决“两种语言”问题 \n",
    "\n",
    "很多组织通常都会用一种类似于领域特定的计算语言（如SAS和R）对新想法做研究、原型构建和 测试，然后再将这些想法移植到某个更大的生产系统中去（可能是用Java、C#或C++编写的）。人们逐渐意识到，Python不仅适用于研究和原型构建，同时也适用于构建生产系统。为什么一种 语言就够了，却要使用两个语言的开发环境呢？我相信越来越多的企业也会这样看，因为研究人员 和工程技术人员使用同一种编程工具将会给企业带来非常显著的组织效益。\n",
    "\n",
    "## 什么情况下不使用Python\n",
    "\n",
    "因为Python是解释性程序设计语言（interpreted programming language），其运行速度比Java或C++慢。如果觉得慢一点没关系，可以用Python，但如果现实场景中需要系统低延迟，使用效率高，还是使用C++这样的语言比较好。\n",
    "\n",
    "用Python编写多线程应用（multithreaded applications）并不方便，因为Python有一个叫做`全局解释器锁(Global interpreter lock (GIL))`的机制，这个机制让编译器只能在一次运行一个Python指令。对于一些大数据量的处理，Python并不合适。\n",
    "\n",
    "但并不是说Python不能运行多线程，并行代码。Python C扩展能使用本地多线程（通过C或C++）来并行运行代码，而不通过GIL机制，前提是不和Python object（对象）进行过多交互。\n"
   ]
  },
  {
   "cell_type": "markdown",
   "metadata": {},
   "source": [
    "# 重要的Python库\n",
    "\n",
    "Essential Python Libraries\n",
    "\n",
    "考虑到那些还不太了解Python科学计算生态系统和库的读者，下面先对各个库做一个简单的介绍。 \n",
    "\n",
    "## Numpy\n",
    "\n",
    "NumPy（Numerical Python的简称）是Python科学计算的基础包。本书大部分内容都基于NumPy以及构建于其上的库。它提供了以下功能（不限于此）：\n",
    "\n",
    "- 快速高效的多维数组对象ndarray。 \n",
    "- 用于对数组执行元素级计算以及直接对数组执行数学运算的函数。 \n",
    "- 用于读写硬盘上基于数组的数据集的工具。 \n",
    "- 线性代数运算、傅里叶变换，以及随机数生成。 \n",
    "\n",
    "-成熟的C API， 用于Python插件和原生C、C++、Fortran代码访问NumPy的数据结构和计算 工具。\n",
    "\n",
    "> <span class=\"mark\">除了为Python提供快速的数组处理能力，NumPy在数据分析方面还有另外一个主要作用，即作为在算法和库之间传递数据的容器。</span>对于数值型数据，NumPy数组在存储和处理数据时要比内置的 Python数据结构高效得多。此外，由低级语言（比如C和Fortran）编写的库可以直接操作NumPy数组中的数据，无需进行任何数据复制工作。许多Python的数值计算工具要么使用NumPy数组作为主要的数据结构，要么可以与NumPy进行无缝交互操作。\n",
    "\n",
    "- Wiki：[NumPy](https://www.wikiwand.com/zh-hans/NumPy)\n",
    "- Baidu：[NumPy](https://baike.baidu.com/item/numpy/5678437)\n",
    "- [使用 Python 进行科学计算：NumPy入门](http://codingpy.com/article/an-introduction-to-numpy/)\n",
    "- [NumPy用户指南](http://usyiyi.cn/translate/NumPy_v111/user/index.html)\n",
    "\n",
    "详情可见第4章。\n",
    "\n",
    "## Pandas\n",
    "\n",
    "pandas提供了快速便捷处理结构化数据的大量数据结构和函数。自从2010年出现以来，它助使Python成为强大而高效的数据分析环境。本书用得最多的pandas对象是DataFrame，它是一个面向列（column-oriented）的二维表结构，另一个是Series，一个一维的标签化数组对象。 \n",
    "\n",
    "pandas兼具NumPy高性能的数组计算功能以及电子表格和关系型数据库（如SQL）灵活的数据处 理功能。它提供了复杂精细的索引功能，能更加便捷地完成重塑、切片和切块、聚合以及选取数据 子集等操作。因为数据操作、准备、清洗是数据分析最重要的技能，pandas是本书的重点。 \n",
    "\n",
    "作为背景，我是在2008年初开始开发pandas的，那时我任职于AQR Capital Management，一家量化投资管理公司，我有许多工作需求都不能用任何单一的工具解决： \n",
    "\n",
    "- 有标签轴的数据结构，支持自动或清晰的数据对齐。这可以防止由于数据不对齐，或处理来源不同的索引不同的数据，所造成的错误。 \n",
    "- 集成时间序列功能。 \n",
    "- 相同的数据结构用于处理时间序列数据和非时间序列数据。 \n",
    "- 保存元数据的算术运算和压缩。 \n",
    "- 灵活处理缺失数据。 \n",
    "- 合并和其它流行数据库（例如基于SQL的数据库）的关系操作。 \n",
    "\n",
    "我想只用一种工具就实现所有功能，并使用通用软件开发语言。Python是一个不错的候选语言，但是此时没有集成的数据结构和工具来实现。我一开始就是想把pandas设计为一款适用于金融和 商业分析的工具，pandas专注于深度时间序列功能和工具，适用于时间索引化的数据。 \n",
    "\n",
    "对于使用R语言进行统计计算的用户，肯定不会对DataFrame这个名字感到陌生，因为它源自于R的data.frame对象。但与Python不同，data frames是构建于R和它的标准库。因此，pandas的许 多功能不属于R或它的扩展包。 \n",
    "\n",
    "<span class=\"mark\">pandas这个名字源于panel data（面板数据，这是多维结构化数据集在计量经济学中的术语）以及Python data analysis（Python数据分析）</span>。\n",
    "\n",
    "本书的主角，用于进行数据处理和清洗的利器。详情可见第5章。\n",
    "\n",
    "## Matplotlib\n",
    "\n",
    "matplotlib是最流行的用于绘制图表和其它二维数据可视化的Python库。它最初由John D.Hunter（JDH）创建，目前由一个庞大的开发团队维护。它非常适合创建出版物上用的图表。虽然还有其它的Python可视化库，matplotlib却是使用最广泛的，并且它和其它生态工具配合也非常完美。可以使用它作为默认的可视化工具\n",
    "\n",
    "用于绘图和数据可视化，详情可见第9章。\n",
    "\n",
    "## IPython and Jupyter\n",
    "\n",
    "IPython项目起初是Fernando Pérez在2001年的一个用以加强和Python交互的子项目。在随后的16年中，它成为了Python数据栈最重要的工具之一。虽然IPython本身没有提供计算和数据分析的工具，它却可以大大提高交互式计算和软件开发的生产率。IPython鼓励“执行-探索”的工作流，区别 于其它编程软件的“编辑-编译-运行”的工作流。它还可以方便地访问系统的shell和文件系统。因为 大部分的数据分析代码包括探索、试错和重复，IPython可以使工作更快。 \n",
    "\n",
    "2014年，Fernando和IPython团队宣布了Jupyter项目，一个更宽泛的多语言交互计算工具的计划。IPython web notebook变成了Jupyter notebook，现在支持40种编程语言。IPython现在可以作为Jupyter使用Python的内核（一种编程语言模式）。\n",
    "\n",
    "IPython变成了Jupyter庞大开源项目（一个交互和探索式计算的高效环境）中的一个组件。它最老也是最简单的模式，现在是一个用于编写、测试、调试Python代码的强化shell。你还可以使用通过Jupyter Notebook，一个支持多种语言的交互式网络代码“笔记本”，来使用IPython。IPython shell和Jupyter notebooks特别适合进行数据探索和可视化。 \n",
    "\n",
    "Jupyter notebooks还可以编写Markdown和HTML内容，它提供了一种创建代码和文本的富文本方法。其它编程语言也在Jupyter中植入了内核，好让在Jupyter中可以使用Python以外的语言。\n",
    "\n",
    "本书的笔记就是使用Jupyter来制作的，详细内容可以查看下面的资料。\n",
    "\n",
    "- [IPython 与 Jupyter 相关概念介绍](https://blog.windrunner.me/python/jupyter.html)\n",
    "- [IPython和Jupyter Notebook](http://www.jianshu.com/p/9c4d3a7f3ca9)\n",
    "- [Jupyter官网](http://jupyter.org/)\n",
    "- [Jupyter Notebook Tutorial: Introduction, Setup, and Walkthrough(视频，需要翻墙)](https://www.youtube.com/watch?v=HW29067qVWk)\n",
    "\n",
    "## SciPy\n",
    "\n",
    "SciPy是一组专门解决科学计算中各种标准问题域的包的集合，主要包括下面这些包： \n",
    "\n",
    "- scipy.integrate：数值积分例程和微分方程求解器。 \n",
    "- scipy.linalg：扩展了由numpy.linalg提供的线性代数例程和矩阵分解功能。 \n",
    "- scipy.optimize：函数优化器（最小化器）以及根查找算法。 \n",
    "- scipy.signal：信号处理工具。 \n",
    "- scipy.sparse：稀疏矩阵和稀疏线性系统求解器。 \n",
    "- scipy.special：SPECFUN（这是一个实现了许多常用数学函数（如伽玛函数）的Fortran库） 的包装器。 \n",
    "- scipy.stats：标准连续和离散概率分布（如密度函数、采样器、连续分布函数等）、各种统计 检验方法，以及更好的描述统计法。\n",
    "\n",
    "- Wiki：[SciPy](https://www.wikiwand.com/zh-hans/SciPy)\n",
    "- [SciPy模块介绍](http://blog.csdn.net/nkwangjie/article/details/17503941)\n",
    "\n",
    "## scikit-learn\n",
    "\n",
    "scikit-learn集成了很多机器学习模型，成为了Python的通用机器学习工具包。它的子模块包括：\n",
    "\n",
    "- 分类：SVM、近邻、随机森林、逻辑回归等等。\n",
    "- 回归：Lasso、岭回归等等。 \n",
    "- 聚类：k-均值、谱聚类等等。 \n",
    "- 降维：PCA、特征选择、矩阵分解等等。 \n",
    "- 选型：网格搜索、交叉验证、度量。 \n",
    "- 预处理：特征提取、标准化。 \n",
    "\n",
    "与pandas、statsmodels和IPython一起，scikit-learn对于Python成为高效数据科学编程语言起到了关键作用。虽然本书不会详细讲解scikit-learn，我会简要介绍它的一些模型，以及用其它工具如何 使用这些模型。\n",
    "\n",
    "用于机器学习，详情可见第13，14章。\n",
    "\n",
    "## statsmodels\n",
    "\n",
    "statsmodels是一个统计分析包，起源于斯坦福大学统计学教授Jonathan Taylor，他设计了多种流 行于R语言的回归分析模型。Skipper Seabold和Josef Perktold在2010年正式创建了statsmodels项 目，随后汇聚了大量的使用者和贡献者。受到R的公式系统的启发，Nathaniel Smith发展出了 Patsy项目，它提供了statsmodels的公式或模型的规范框架。 \n",
    "\n",
    "与scikit-learn比较，statsmodels包含经典统计学和经济计量学的算法。包括如下子模块： \n",
    "\n",
    "- 回归模型：线性回归，广义线性模型，健壮线性模型，线性混合效应模型等等。 \n",
    "- 方差分析（ANOVA）。 \n",
    "- 时间序列分析：AR，ARMA，ARIMA，VAR和其它模型。 \n",
    "- 非参数方法：核密度估计，核回归。 \n",
    "- 统计模型结果可视化。 \n",
    "\n",
    "statsmodels更关注与统计推断，提供不确定估计和参数p-值。相反的，scikit-learn注重预测。 同scikit-learn一样，本书只是简要介绍statsmodels，以及如何用NumPy和pandas使用它。\n",
    "\n",
    "- [【量化课堂】Statsmodels 统计包之 OLS 回归](https://www.joinquant.com/post/1786?f=study&m=python)\n",
    "- [Welcome to Statsmodels’s Documentation](http://www.statsmodels.org/stable/index.html)\n",
    "\n"
   ]
  },
  {
   "cell_type": "markdown",
   "metadata": {},
   "source": [
    "# 社区和会议 \n",
    "\n",
    "除了在网上搜索，各式各样的科学和数据相关的Python邮件列表是非常有帮助的，很容易获得回答。包括： \n",
    "\n",
    "- pydata：一个Google群组列表，用以回答Python数据分析和pandas的问题； \n",
    "- pystatsmodels： statsmodels或pandas相关的问题； \n",
    "- scikit-learn和Python机器学习邮件列表，scikit-learn@python.org； \n",
    "- numpy-discussion：和NumPy相关的问题； \n",
    "- scipy-user：SciPy和科学计算的问题； \n",
    "\n",
    "因为这些邮件列表的URLs可以很容易搜索到，但因为可能发生变化，所以没有给出。"
   ]
  },
  {
   "cell_type": "markdown",
   "metadata": {},
   "source": [
    "# 本书导航\n",
    "\n",
    "如果之前从未使用过Python，那你可能需要先看看本书的第2章和第3章，我简要介绍了Python的 特点，IPython和Jupyter notebooks。这些知识是为本书后面的内容做铺垫。如果你已经掌握 Python，可以选择跳过。 \n",
    "\n",
    "接下来，简单地介绍了NumPy的关键特性，附录A中是更高级的NumPy功能。然后，我介绍了 pandas，本书剩余的内容全部是使用pandas、NumPy和matplotlib处理数据分析的问题。我已经 尽量让全书的结构循序渐进，但偶尔会有章节之间的交叉，有时用到的概念还没有介绍过。"
   ]
  },
  {
   "cell_type": "markdown",
   "metadata": {},
   "source": [
    "# 引入惯例\n",
    "\n",
    "Python社区已经广泛采取了一些常用模块的命名惯例："
   ]
  },
  {
   "cell_type": "code",
   "execution_count": 5,
   "metadata": {
    "ExecuteTime": {
     "end_time": "2022-07-13T06:05:12.829514Z",
     "start_time": "2022-07-13T06:05:12.817512Z"
    }
   },
   "outputs": [],
   "source": [
    "import numpy as np \n",
    "import matplotlib.pyplot as plt \n",
    "import pandas as pd \n",
    "import seaborn as sns \n",
    "import statsmodels as sm"
   ]
  },
  {
   "cell_type": "markdown",
   "metadata": {},
   "source": [
    "也就是说，当你看到np.arange时，就应该想到它引用的是NumPy中的arange函数。这样做的原因是：在Python软件开发过程中，不建议直接引入类似NumPy这种大型库的全部内容（from numpy import *）"
   ]
  },
  {
   "cell_type": "markdown",
   "metadata": {},
   "source": [
    "# 行话 \n",
    "\n",
    "给出一些有关编程和数据科学方面的常用术语定义：\n",
    "\n",
    "数据规整（Munge/Munging/Wrangling）指的是将非结构化和（或）散乱数据处理为结构化或整洁形式的整个过程。这几个词已经悄悄成为当今数据黑客们的行话了。Munge这个词跟Lunge押韵。 \n",
    "\n",
    "伪码（Pseudocode）算法或过程的“代码式”描述，而这些代码本身并不是实际有效的源代码。 \n",
    "\n",
    "语法糖（Syntactic sugar）这是一种编程语法，它并不会带来新的特性，但却能使代码更易读、更易写。"
   ]
  }
 ],
 "metadata": {
  "kernelspec": {
   "display_name": "Python 3 (ipykernel)",
   "language": "python",
   "name": "python3"
  },
  "language_info": {
   "codemirror_mode": {
    "name": "ipython",
    "version": 3
   },
   "file_extension": ".py",
   "mimetype": "text/x-python",
   "name": "python",
   "nbconvert_exporter": "python",
   "pygments_lexer": "ipython3",
   "version": "3.9.7"
  },
  "latex_envs": {
   "LaTeX_envs_menu_present": true,
   "autoclose": false,
   "autocomplete": true,
   "bibliofile": "biblio.bib",
   "cite_by": "apalike",
   "current_citInitial": 1,
   "eqLabelWithNumbers": true,
   "eqNumInitial": 1,
   "hotkeys": {
    "equation": "Ctrl-E",
    "itemize": "Ctrl-I"
   },
   "labels_anchors": false,
   "latex_user_defs": false,
   "report_style_numbering": false,
   "user_envs_cfg": false
  },
  "toc": {
   "base_numbering": "1",
   "nav_menu": {},
   "number_sections": true,
   "sideBar": true,
   "skip_h1_title": false,
   "title_cell": "Table of Contents",
   "title_sidebar": "Contents",
   "toc_cell": true,
   "toc_position": {
    "height": "calc(100% - 180px)",
    "left": "10px",
    "top": "150px",
    "width": "310.417px"
   },
   "toc_section_display": true,
   "toc_window_display": true
  },
  "varInspector": {
   "cols": {
    "lenName": 16,
    "lenType": 16,
    "lenVar": 40
   },
   "kernels_config": {
    "python": {
     "delete_cmd_postfix": "",
     "delete_cmd_prefix": "del ",
     "library": "var_list.py",
     "varRefreshCmd": "print(var_dic_list())"
    },
    "r": {
     "delete_cmd_postfix": ") ",
     "delete_cmd_prefix": "rm(",
     "library": "var_list.r",
     "varRefreshCmd": "cat(var_dic_list()) "
    }
   },
   "types_to_exclude": [
    "module",
    "function",
    "builtin_function_or_method",
    "instance",
    "_Feature"
   ],
   "window_display": false
  },
  "vscode": {
   "interpreter": {
    "hash": "3d9ecc8d1756023f0f76f8dcd9a958f360ff15094470726388911e2658271058"
   }
  }
 },
 "nbformat": 4,
 "nbformat_minor": 2
}
