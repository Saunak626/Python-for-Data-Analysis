{
 "cells": [
  {
   "cell_type": "markdown",
   "id": "3642e4df",
   "metadata": {
    "tags": []
   },
   "source": [
    "本章讨论Python的内置功能，这些功能本书会用到很多。虽然扩展库，比如pandas和Numpy，使处理大数据集很方便，但它们是和Python的内置数据处理工具一同使用的。我们会从Python最基础的数据结构开始：元组、列表、字典和集合。然后会讨论创建你自己的、可重复使用的Python函数。最后，会学习Python的文件对象，以及如何与本地硬盘交互。"
   ]
  },
  {
   "cell_type": "markdown",
   "id": "0e2eb113",
   "metadata": {
    "tags": [],
    "toc-hr-collapsed": true
   },
   "source": [
    "# 数据结构和序列\n",
    "\n",
    "## 元组\n",
    "\n",
    "元组是一个固定长度，不可改变的Python序列对象。创建元组的最简单方式，是用逗号分隔一列值："
   ]
  },
  {
   "cell_type": "code",
   "execution_count": null,
   "id": "6226861b",
   "metadata": {},
   "outputs": [],
   "source": []
  },
  {
   "cell_type": "code",
   "execution_count": null,
   "id": "bfdef91d",
   "metadata": {},
   "outputs": [],
   "source": []
  },
  {
   "cell_type": "markdown",
   "id": "f2119d7d",
   "metadata": {},
   "source": [
    "### 拆分元组\n",
    "\n",
    "如果你想将元组赋值给类似元组的变量，Python会试图拆分等号右边的值："
   ]
  },
  {
   "cell_type": "code",
   "execution_count": 1,
   "id": "fa0fa643",
   "metadata": {
    "ExecuteTime": {
     "end_time": "2022-07-13T10:10:27.030658Z",
     "start_time": "2022-07-13T10:10:27.016126Z"
    }
   },
   "outputs": [
    {
     "data": {
      "text/plain": [
       "5"
      ]
     },
     "execution_count": 1,
     "metadata": {},
     "output_type": "execute_result"
    }
   ],
   "source": [
    "tup = (4, 5, 6)\n",
    "a, b, c = tup\n",
    "b"
   ]
  },
  {
   "cell_type": "markdown",
   "id": "db211462-69d0-4e57-a9ce-8a67cc586092",
   "metadata": {
    "ExecuteTime": {
     "end_time": "2022-07-13T10:10:27.046599Z",
     "start_time": "2022-07-13T10:10:27.031659Z"
    }
   },
   "source": [
    "即使含有元组的元组也会被拆分："
   ]
  },
  {
   "cell_type": "code",
   "execution_count": 2,
   "id": "01575fe8",
   "metadata": {
    "ExecuteTime": {
     "end_time": "2022-07-13T10:10:27.047247Z",
     "start_time": "2022-07-13T10:10:27.047247Z"
    }
   },
   "outputs": [
    {
     "data": {
      "text/plain": [
       "7"
      ]
     },
     "execution_count": 2,
     "metadata": {},
     "output_type": "execute_result"
    }
   ],
   "source": [
    "tup = 4, 5, (6, 7)\n",
    "a, b, (c, d) = tup\n",
    "d"
   ]
  },
  {
   "cell_type": "code",
   "execution_count": 3,
   "id": "fbccbf67",
   "metadata": {
    "ExecuteTime": {
     "end_time": "2022-07-13T10:10:27.048242Z",
     "start_time": "2022-07-13T10:10:27.048242Z"
    }
   },
   "outputs": [
    {
     "name": "stdout",
     "output_type": "stream",
     "text": [
      "a=1, b=2, c=3\n",
      "a=4, b=5, c=6\n",
      "a=7, b=8, c=9\n"
     ]
    }
   ],
   "source": [
    "seqs = [(1, 2, 3), (4, 5, 6), (7, 8, 9)]\n",
    "for seq in seqs:\n",
    "    a, b, c = seq\n",
    "    print(\"a={0}, b={1}, c={2}\".format(a, b, c))"
   ]
  },
  {
   "cell_type": "markdown",
   "id": "fdbec36c",
   "metadata": {},
   "source": [
    "### 拆分舍弃—'*_'\n",
    "\n",
    "rest 的部分是想要舍弃的部分，rest的名字不重要。作为惯用写法，许多Python程序员会将不需要的变量使用下划线'_'："
   ]
  },
  {
   "cell_type": "code",
   "execution_count": 4,
   "id": "83684528",
   "metadata": {
    "ExecuteTime": {
     "end_time": "2022-07-13T10:10:27.141352Z",
     "start_time": "2022-07-13T10:10:27.134350Z"
    }
   },
   "outputs": [
    {
     "data": {
      "text/plain": [
       "[3, 4, 5]"
      ]
     },
     "execution_count": 4,
     "metadata": {},
     "output_type": "execute_result"
    }
   ],
   "source": [
    "values = 1, 2, 3, 4, 5\n",
    "a, b, *_ = values\n",
    "a, b\n",
    "_  # 舍弃的变量"
   ]
  },
  {
   "cell_type": "markdown",
   "id": "3a8388bc",
   "metadata": {},
   "source": [
    "### tuple统计频率\n",
    "因为元组的大小和内容不能修改，它的实例方法都很轻量。其中一个很有用的就是 count （也适 用于列表），它可以统计某个值得出现频率："
   ]
  },
  {
   "cell_type": "code",
   "execution_count": 5,
   "id": "3c0aef18",
   "metadata": {
    "ExecuteTime": {
     "end_time": "2022-07-13T10:10:27.251635Z",
     "start_time": "2022-07-13T10:10:27.246632Z"
    }
   },
   "outputs": [
    {
     "data": {
      "text/plain": [
       "3"
      ]
     },
     "execution_count": 5,
     "metadata": {},
     "output_type": "execute_result"
    }
   ],
   "source": [
    "a = (1, 2, 2, 2, 4, 5)\n",
    "a.count(2)"
   ]
  },
  {
   "cell_type": "markdown",
   "id": "71906e2a",
   "metadata": {
    "toc-hr-collapsed": true
   },
   "source": [
    "## 列表 list\n",
    "与元组对比，列表的长度可变、内容可以被修改。你可以用方括号定义，或用 list 函数："
   ]
  },
  {
   "cell_type": "code",
   "execution_count": 6,
   "id": "029a899c",
   "metadata": {
    "ExecuteTime": {
     "end_time": "2022-07-13T10:10:27.361991Z",
     "start_time": "2022-07-13T10:10:27.359989Z"
    }
   },
   "outputs": [
    {
     "name": "stdout",
     "output_type": "stream",
     "text": [
      "['foo', 'bar', 'baz']\n",
      "['foo', 'peekaboo', 'baz']\n"
     ]
    }
   ],
   "source": [
    "tup = (\"foo\", \"bar\", \"baz\")\n",
    "b_list = list(tup)\n",
    "print(b_list)\n",
    "b_list[1] = \"peekaboo\"\n",
    "print(b_list)"
   ]
  },
  {
   "cell_type": "markdown",
   "id": "acbf6ed2",
   "metadata": {},
   "source": [
    "list 函数常用来在数据处理中实体化迭代器或生成器："
   ]
  },
  {
   "cell_type": "code",
   "execution_count": 7,
   "id": "6255bbd8",
   "metadata": {
    "ExecuteTime": {
     "end_time": "2022-07-13T10:10:27.488186Z",
     "start_time": "2022-07-13T10:10:27.471183Z"
    }
   },
   "outputs": [
    {
     "name": "stdout",
     "output_type": "stream",
     "text": [
      "range(0, 10)\n"
     ]
    },
    {
     "data": {
      "text/plain": [
       "[0, 1, 2, 3, 4, 5, 6, 7, 8, 9]"
      ]
     },
     "execution_count": 7,
     "metadata": {},
     "output_type": "execute_result"
    }
   ],
   "source": [
    "gen = range(10)\n",
    "print(gen)\n",
    "list(gen)"
   ]
  },
  {
   "cell_type": "markdown",
   "id": "47bbf4db",
   "metadata": {
    "tags": []
   },
   "source": [
    "### 添加和删除元素\n",
    "\n",
    "可以用`append`在列表末尾添加元素"
   ]
  },
  {
   "cell_type": "code",
   "execution_count": 8,
   "id": "0e190a48",
   "metadata": {
    "ExecuteTime": {
     "end_time": "2022-07-13T10:10:27.597984Z",
     "start_time": "2022-07-13T10:10:27.589991Z"
    }
   },
   "outputs": [
    {
     "data": {
      "text/plain": [
       "['foo', 'peekaboo', 'baz', 'dwarf']"
      ]
     },
     "execution_count": 8,
     "metadata": {},
     "output_type": "execute_result"
    }
   ],
   "source": [
    "b_list.append(\"dwarf\")\n",
    "b_list"
   ]
  },
  {
   "cell_type": "markdown",
   "id": "272c6bc8",
   "metadata": {},
   "source": [
    "`insert`可以在特定的位置插入元素，插入的序号必须在0和列表长度之间。\n",
    ">警告：与 append 相比， insert 耗费的计算量大，因为对后续元素的引用必须在内部迁移， 以便为新元素提供空间。如果要在序列的头部和尾部插入元素，你可能需要使 用 collections.deque ，一个双尾部队列。\n"
   ]
  },
  {
   "cell_type": "code",
   "execution_count": 9,
   "id": "090695ad",
   "metadata": {
    "ExecuteTime": {
     "end_time": "2022-07-13T10:10:27.724174Z",
     "start_time": "2022-07-13T10:10:27.708171Z"
    }
   },
   "outputs": [
    {
     "data": {
      "text/plain": [
       "['foo', 'red', 'peekaboo', 'baz', 'dwarf']"
      ]
     },
     "execution_count": 9,
     "metadata": {},
     "output_type": "execute_result"
    }
   ],
   "source": [
    "b_list.insert(1, \"red\")\n",
    "b_list"
   ]
  },
  {
   "cell_type": "markdown",
   "id": "fea62762",
   "metadata": {},
   "source": [
    "`insert`的逆运算是pop，移除并返回`指定位置`的元素，默认值是-1，即末尾元素："
   ]
  },
  {
   "cell_type": "code",
   "execution_count": 10,
   "id": "db21421a",
   "metadata": {
    "ExecuteTime": {
     "end_time": "2022-07-13T10:10:27.866991Z",
     "start_time": "2022-07-13T10:10:27.861990Z"
    }
   },
   "outputs": [
    {
     "data": {
      "text/plain": [
       "'peekaboo'"
      ]
     },
     "execution_count": 10,
     "metadata": {},
     "output_type": "execute_result"
    }
   ],
   "source": [
    "b_list.pop(2)"
   ]
  },
  {
   "cell_type": "markdown",
   "id": "8d597750",
   "metadata": {},
   "source": [
    "可以用`remove`去除某个值，`remove`会找到第一个值并移除："
   ]
  },
  {
   "cell_type": "code",
   "execution_count": 11,
   "id": "39bd0411",
   "metadata": {
    "ExecuteTime": {
     "end_time": "2022-07-13T10:10:28.026243Z",
     "start_time": "2022-07-13T10:10:28.018665Z"
    }
   },
   "outputs": [
    {
     "name": "stdout",
     "output_type": "stream",
     "text": [
      "['foo', 'red', 'baz', 'dwarf', 'foo']\n",
      "None\n",
      "['red', 'baz', 'dwarf', 'foo']\n"
     ]
    }
   ],
   "source": [
    "b_list.append(\"foo\")\n",
    "print(b_list)\n",
    "print(b_list.remove(\"foo\"))  # 被移除后为None\n",
    "print(b_list)"
   ]
  },
  {
   "cell_type": "markdown",
   "id": "1ade17d8",
   "metadata": {},
   "source": [
    "### 检查元素包含\n",
    "\n",
    "用`in`可以检查列表是否包含某个值，检查不包含为`in not`："
   ]
  },
  {
   "cell_type": "code",
   "execution_count": 12,
   "id": "9b326662",
   "metadata": {
    "ExecuteTime": {
     "end_time": "2022-07-13T10:10:28.186281Z",
     "start_time": "2022-07-13T10:10:28.174282Z"
    }
   },
   "outputs": [
    {
     "name": "stdout",
     "output_type": "stream",
     "text": [
      "True\n"
     ]
    },
    {
     "data": {
      "text/plain": [
       "False"
      ]
     },
     "execution_count": 12,
     "metadata": {},
     "output_type": "execute_result"
    }
   ],
   "source": [
    "res = \"dwarf\" in b_list\n",
    "print(res)\n",
    "\"dwarf\" not in b_list"
   ]
  },
  {
   "cell_type": "markdown",
   "id": "9f6b5f72",
   "metadata": {},
   "source": [
    "### 串联和组合列表\n",
    "\n",
    "与元组类似，可以用加号将两个列表串联起来："
   ]
  },
  {
   "cell_type": "code",
   "execution_count": 13,
   "id": "fb303167",
   "metadata": {
    "ExecuteTime": {
     "end_time": "2022-07-13T10:10:28.314311Z",
     "start_time": "2022-07-13T10:10:28.306309Z"
    }
   },
   "outputs": [
    {
     "data": {
      "text/plain": [
       "[4, None, 'foo', 7, 8, (2, 3)]"
      ]
     },
     "execution_count": 13,
     "metadata": {},
     "output_type": "execute_result"
    }
   ],
   "source": [
    "[4, None, \"foo\"] + [7, 8, (2, 3)]"
   ]
  },
  {
   "cell_type": "markdown",
   "id": "f5517451",
   "metadata": {},
   "source": [
    "如果已经定义了一个列表，用 `extend` 方法可以追加多个元素："
   ]
  },
  {
   "cell_type": "code",
   "execution_count": 14,
   "id": "2f0b2654-8c16-4c56-ba95-b166d1af3440",
   "metadata": {
    "ExecuteTime": {
     "end_time": "2022-07-13T10:10:28.457985Z",
     "start_time": "2022-07-13T10:10:28.441981Z"
    }
   },
   "outputs": [
    {
     "data": {
      "text/plain": [
       "[4, None, 'foo', 7, 8, (2, 3)]"
      ]
     },
     "execution_count": 14,
     "metadata": {},
     "output_type": "execute_result"
    }
   ],
   "source": [
    "x = [4, None, \"foo\"]\n",
    "x.extend([7, 8, (2, 3)])\n",
    "x"
   ]
  },
  {
   "cell_type": "markdown",
   "id": "5d213921",
   "metadata": {},
   "source": [
    "加法串联列表的计算量较大，因为要新建一个列表再复制对象。用 `extend` 追加元素，尤其是到一个大列表中，更为可取。因此："
   ]
  },
  {
   "cell_type": "code",
   "execution_count": 15,
   "id": "005bde8c",
   "metadata": {
    "ExecuteTime": {
     "end_time": "2022-07-13T10:10:28.584664Z",
     "start_time": "2022-07-13T10:10:28.580664Z"
    }
   },
   "outputs": [],
   "source": [
    "list_of_lists = [[\"chicken\", \"apple\", \"banana\"], [\"chicken\", \"apple\", \"banana\"]]\n",
    "everything = []\n",
    "for chunk in list_of_lists:\n",
    "    everything.extend(chunk)"
   ]
  },
  {
   "cell_type": "code",
   "execution_count": 16,
   "id": "04191c4e",
   "metadata": {
    "ExecuteTime": {
     "end_time": "2022-07-13T10:10:28.600366Z",
     "start_time": "2022-07-13T10:10:28.585665Z"
    }
   },
   "outputs": [],
   "source": [
    "list_of_lists = [[\"chicken\", \"apple\", \"banana\"], [\"chicken\", \"apple\", \"banana\"]]\n",
    "everything = []\n",
    "for chunk in list_of_lists:\n",
    "    everything = everything + chunk"
   ]
  },
  {
   "cell_type": "markdown",
   "id": "bdec91b4",
   "metadata": {},
   "source": [
    "### 排序\n",
    "\n",
    "你可以用 `sort` 函数将一个列表`原地排序`（不创建新的对象）：\n"
   ]
  },
  {
   "cell_type": "code",
   "execution_count": 17,
   "id": "3fb0b269",
   "metadata": {
    "ExecuteTime": {
     "end_time": "2022-07-13T10:10:28.743222Z",
     "start_time": "2022-07-13T10:10:28.726150Z"
    }
   },
   "outputs": [
    {
     "data": {
      "text/plain": [
       "[1, 2, 3, 5, 7]"
      ]
     },
     "execution_count": 17,
     "metadata": {},
     "output_type": "execute_result"
    }
   ],
   "source": [
    "a = [7, 2, 5, 1, 3]\n",
    "a.sort()\n",
    "a"
   ]
  },
  {
   "cell_type": "markdown",
   "id": "949bd7c8",
   "metadata": {},
   "source": [
    "`sort`可以输入参数选择排序类型，比如字符串可以用`key=len`按照长度排序。数字`list`可以对数字大小排序，但数字类型不能使用len，因此这个`key`无效，`list`有len但是嵌套`list`用改关键字排序无效。"
   ]
  },
  {
   "cell_type": "code",
   "execution_count": 18,
   "id": "3ab23412",
   "metadata": {
    "ExecuteTime": {
     "end_time": "2022-07-13T10:10:28.886483Z",
     "start_time": "2022-07-13T10:10:28.872479Z"
    }
   },
   "outputs": [
    {
     "data": {
      "text/plain": [
       "['He', 'saw', 'six', 'small', 'foxes']"
      ]
     },
     "execution_count": 18,
     "metadata": {},
     "output_type": "execute_result"
    }
   ],
   "source": [
    "b = [\"saw\", \"small\", \"He\", \"foxes\", \"six\"]\n",
    "b.sort(key=len)\n",
    "b"
   ]
  },
  {
   "cell_type": "code",
   "execution_count": 19,
   "id": "e12a1d02",
   "metadata": {
    "ExecuteTime": {
     "end_time": "2022-07-13T10:10:28.902315Z",
     "start_time": "2022-07-13T10:10:28.887482Z"
    }
   },
   "outputs": [
    {
     "name": "stdout",
     "output_type": "stream",
     "text": [
      "[[1], [4, 5, 6], [2, 3]]\n",
      "3\n"
     ]
    }
   ],
   "source": [
    "c = [[1], [4, 5, 6], [2, 3]]\n",
    "print(c)\n",
    "print(len(c))\n",
    "c.sort(key=len)"
   ]
  },
  {
   "cell_type": "code",
   "execution_count": 20,
   "id": "b28354bf",
   "metadata": {
    "ExecuteTime": {
     "end_time": "2022-07-13T10:10:28.918321Z",
     "start_time": "2022-07-13T10:10:28.903316Z"
    }
   },
   "outputs": [
    {
     "name": "stdout",
     "output_type": "stream",
     "text": [
      "[1, 3, 4, 5, 7]\n"
     ]
    }
   ],
   "source": [
    "c = [3, 1, 5, 7, 4]\n",
    "c.sort()\n",
    "print(c)"
   ]
  },
  {
   "cell_type": "markdown",
   "id": "35e1de45-6f55-4ca1-a21c-d6373fc07d41",
   "metadata": {},
   "source": [
    "### 二分搜索和维护已排序的列表\n",
    "\n",
    "`bisect`模块支持二分查找，以及向已排序的`列表`插入值。\n",
    "`bisect.bisect`返回插入该元素后仍保证排序的序号，并不执行插入元素。\n",
    "`bisect.insort`是向保证原始排序结果的情况下插入值，没有返回值。\n",
    "注意： `bisect` 模块不会检查列表是否已排好序，进行检查的话会耗费大量计算。因此，对未排序的列表使用 `bisect` 不会产生错误，但结果不一定正确。"
   ]
  },
  {
   "cell_type": "code",
   "execution_count": 21,
   "id": "d0370e51",
   "metadata": {},
   "outputs": [
    {
     "name": "stdout",
     "output_type": "stream",
     "text": [
      "[1, 2, 2, 2, 3, 4, 7]\n",
      "[1, 2, 2, 2, 3, 4, 7]\n",
      "None\n",
      "[1, 2, 2, 2, 3, 4, 6, 7]\n"
     ]
    }
   ],
   "source": [
    "import bisect\n",
    "\n",
    "c = [1, 2, 2, 2, 3, 4, 7]\n",
    "bisect.bisect(c, 2)\n",
    "print(c)\n",
    "bisect.bisect(c, 5)\n",
    "print(c)\n",
    "print(bisect.insort(c, 6))\n",
    "print(c)"
   ]
  },
  {
   "cell_type": "markdown",
   "id": "1c8c57f1-4176-4c9e-8c78-1dd0b399307b",
   "metadata": {},
   "source": [
    "### 切片\n",
    "用切片可以选取大多数序列类型的一部分，切片的基本形式是`[start:stop]`。是左闭右开，包括start不包含end元素，因此元素个数为`stop-start`。"
   ]
  },
  {
   "cell_type": "code",
   "execution_count": 22,
   "id": "348e270c",
   "metadata": {},
   "outputs": [
    {
     "name": "stdout",
     "output_type": "stream",
     "text": [
      "[1, 2, 3, 4, 5]\n"
     ]
    },
    {
     "data": {
      "text/plain": [
       "[2, 3]"
      ]
     },
     "execution_count": 22,
     "metadata": {},
     "output_type": "execute_result"
    }
   ],
   "source": [
    "seq = [1, 2, 3, 4, 5]\n",
    "print(seq)\n",
    "seq[1:3]"
   ]
  },
  {
   "cell_type": "markdown",
   "id": "e2215827-1a9a-42bb-a28e-b72c661e0c1d",
   "metadata": {},
   "source": [
    "start 或 stop 都可以被省略，省略之后，分别默认序列的开头和结尾："
   ]
  },
  {
   "cell_type": "code",
   "execution_count": 23,
   "id": "93a30630-57db-46dc-9f70-2a111f40a2db",
   "metadata": {},
   "outputs": [
    {
     "name": "stdout",
     "output_type": "stream",
     "text": [
      "[1, 2, 3]\n"
     ]
    },
    {
     "data": {
      "text/plain": [
       "[4, 5]"
      ]
     },
     "execution_count": 23,
     "metadata": {},
     "output_type": "execute_result"
    }
   ],
   "source": [
    "print(seq[:3])\n",
    "seq[3:]"
   ]
  },
  {
   "cell_type": "markdown",
   "id": "7d517a31-942d-4954-a642-9d0398f8db53",
   "metadata": {},
   "source": [
    "切片也可以被序列赋值，start=end为在该位置插入序列："
   ]
  },
  {
   "cell_type": "code",
   "execution_count": 24,
   "id": "ce189d46-791d-4ee4-b76c-b426fb77fdb7",
   "metadata": {},
   "outputs": [
    {
     "name": "stdout",
     "output_type": "stream",
     "text": [
      "[1, 2, 3, 0, 0, 4, 5]\n"
     ]
    }
   ],
   "source": [
    "seq = [1, 2, 3, 4, 5]\n",
    "seq[3:3] = [0, 0]\n",
    "print(seq)"
   ]
  },
  {
   "cell_type": "markdown",
   "id": "6c37d99c-bf4b-4dd2-9b33-31b265430e02",
   "metadata": {},
   "source": [
    "end大于start的，都是用插入序列去覆盖相应位置的序列的值，实际使用时最好测试："
   ]
  },
  {
   "cell_type": "code",
   "execution_count": 25,
   "id": "6b7cf54f-2db5-44e7-ba98-e4d46d4b7719",
   "metadata": {},
   "outputs": [
    {
     "name": "stdout",
     "output_type": "stream",
     "text": [
      "[1, 2, 3, 0, 5]\n"
     ]
    }
   ],
   "source": [
    "seq = [1, 2, 3, 4, 5]\n",
    "seq[3:4] = [0]\n",
    "print(seq)"
   ]
  },
  {
   "cell_type": "code",
   "execution_count": 26,
   "id": "93ce2f55-467b-40bc-9524-23aa669e0363",
   "metadata": {},
   "outputs": [
    {
     "name": "stdout",
     "output_type": "stream",
     "text": [
      "[1, 2, 3, 0, 0, 5]\n"
     ]
    }
   ],
   "source": [
    "seq = [1, 2, 3, 4, 5]\n",
    "seq[3:4] = [0, 0]\n",
    "print(seq)"
   ]
  },
  {
   "cell_type": "code",
   "execution_count": 27,
   "id": "369f1f0a-a54b-4cbc-a023-1c4014f53f2c",
   "metadata": {},
   "outputs": [
    {
     "name": "stdout",
     "output_type": "stream",
     "text": [
      "[1, 2, 3, 0, 0]\n"
     ]
    }
   ],
   "source": [
    "seq = [1, 2, 3, 4, 5]\n",
    "seq[3:] = [0, 0]\n",
    "print(seq)"
   ]
  },
  {
   "cell_type": "code",
   "execution_count": 28,
   "id": "f616fbc8-230e-4342-85e0-2999c50f85bb",
   "metadata": {},
   "outputs": [
    {
     "name": "stdout",
     "output_type": "stream",
     "text": [
      "[1, 2, 3, 0, 0, 0]\n"
     ]
    }
   ],
   "source": [
    "seq = [1, 2, 3, 4, 5]\n",
    "seq[3:5] = [0, 0, 0]\n",
    "print(seq)"
   ]
  },
  {
   "cell_type": "markdown",
   "id": "b91b2654-9361-4867-8f0f-3ed940a7a905",
   "metadata": {
    "tags": []
   },
   "source": [
    "负数表明从后向前切片："
   ]
  },
  {
   "cell_type": "code",
   "execution_count": 29,
   "id": "54e71222-99ea-4442-8626-8f1bc195be07",
   "metadata": {},
   "outputs": [
    {
     "name": "stdout",
     "output_type": "stream",
     "text": [
      "[2, 3, 4, 5]\n",
      "[1, 2, 3]\n"
     ]
    }
   ],
   "source": [
    "seq = [1, 2, 3, 4, 5]\n",
    "print(seq[-4:])\n",
    "print(seq[-6:-2])"
   ]
  },
  {
   "cell_type": "markdown",
   "id": "d0ff657b-193a-4ba9-b112-d048063279ca",
   "metadata": {},
   "source": [
    "在图中，指数标示在边缘以表明切片是在哪里开始哪里结束的。\n",
    "![](https://obsidian-swq.oss-cn-shanghai.aliyuncs.com/20220714153858.png)\n"
   ]
  },
  {
   "cell_type": "markdown",
   "id": "92eadc8e-c9a1-444d-91f1-5eb707b4cb18",
   "metadata": {},
   "source": [
    "在第二个冒号后面使用 step ，可以隔一个取一个元素："
   ]
  },
  {
   "cell_type": "code",
   "execution_count": 30,
   "id": "d84e1c89-45e9-4573-b08d-6ba55a4ff2e3",
   "metadata": {},
   "outputs": [
    {
     "name": "stdout",
     "output_type": "stream",
     "text": [
      "[1, 3, 5]\n"
     ]
    }
   ],
   "source": [
    "seq = [1, 2, 3, 4, 5]\n",
    "print(seq[::2])"
   ]
  },
  {
   "cell_type": "markdown",
   "id": "39c10103-149f-4bf7-acd0-e12a17897ce3",
   "metadata": {},
   "source": [
    "使用 -1 ，它可以将列表或元组颠倒过来"
   ]
  },
  {
   "cell_type": "code",
   "execution_count": 31,
   "id": "b9ed38b3-dd5b-469c-8d3d-14f597fa87d0",
   "metadata": {},
   "outputs": [
    {
     "name": "stdout",
     "output_type": "stream",
     "text": [
      "[5, 4, 3, 2, 1]\n"
     ]
    }
   ],
   "source": [
    "seq = [1, 2, 3, 4, 5]\n",
    "print(seq[::-1])"
   ]
  },
  {
   "cell_type": "markdown",
   "id": "b3cf0599-58f9-4ee0-bf88-8d8872985e83",
   "metadata": {},
   "source": [
    "## enumerate序列函数\n",
    "迭代一个序列时，可以用Python内置的`enumerate`函数返回`(i, value)`元组序列：\n",
    "```python\n",
    "for i, value in enumerate(collection):\n",
    "    # do something with value\n",
    "```"
   ]
  },
  {
   "cell_type": "markdown",
   "id": "88dfa89c-506f-4460-92e1-13dd950ba904",
   "metadata": {},
   "source": [
    "当索引数据时，可以使用 `enumerate` 计算序列（唯一的） `dict` 映射到位置的值："
   ]
  },
  {
   "cell_type": "code",
   "execution_count": 32,
   "id": "fdf53e02-2559-4d14-ae9e-c50756dbbdaf",
   "metadata": {},
   "outputs": [
    {
     "data": {
      "text/plain": [
       "{'foo': 0, 'bar': 1, 'baz': 2}"
      ]
     },
     "execution_count": 32,
     "metadata": {},
     "output_type": "execute_result"
    }
   ],
   "source": [
    "some_list = [\"foo\", \"bar\", \"baz\"]\n",
    "mapping = {}\n",
    "for i, v in enumerate(some_list):\n",
    "    mapping[v] = i\n",
    "mapping"
   ]
  },
  {
   "cell_type": "markdown",
   "id": "f4faf2b6-de0b-4c6b-8449-59108a2a6a1d",
   "metadata": {},
   "source": [
    "## sorted函数\n",
    "`sorted` 函数可以接受和 `sort` 相同的参数，可以从任意序列的元素返回一个新的排好序的列表："
   ]
  },
  {
   "cell_type": "code",
   "execution_count": 33,
   "id": "6e457d5d-d2e2-4b49-8fb4-1b7ffa931105",
   "metadata": {},
   "outputs": [
    {
     "data": {
      "text/plain": [
       "[0, 1, 2, 2, 3, 6, 7]"
      ]
     },
     "execution_count": 33,
     "metadata": {},
     "output_type": "execute_result"
    }
   ],
   "source": [
    "sorted([7, 1, 2, 6, 0, 3, 2])"
   ]
  },
  {
   "cell_type": "code",
   "execution_count": 34,
   "id": "f721aeaa-3496-4ed1-a3f8-db548cf95b13",
   "metadata": {},
   "outputs": [
    {
     "data": {
      "text/plain": [
       "[' ', 'a', 'c', 'e', 'e', 'h', 'o', 'r', 'r', 's']"
      ]
     },
     "execution_count": 34,
     "metadata": {},
     "output_type": "execute_result"
    }
   ],
   "source": [
    "sorted(\"horse race\")"
   ]
  },
  {
   "cell_type": "markdown",
   "id": "2b981dc3-3788-4e4c-a27c-606dd90741f6",
   "metadata": {},
   "source": [
    "## zip函数\n",
    "`zip` 可以将多个列表、元组或其它序列成对组合成一个元组列表："
   ]
  },
  {
   "cell_type": "code",
   "execution_count": 35,
   "id": "c8f9db99-a235-45b3-b8bc-2e8c3f409a2c",
   "metadata": {},
   "outputs": [
    {
     "data": {
      "text/plain": [
       "[('foo', 'one'), ('bar', 'two'), ('baz', 'three')]"
      ]
     },
     "execution_count": 35,
     "metadata": {},
     "output_type": "execute_result"
    }
   ],
   "source": [
    "seq1 = [\"foo\", \"bar\", \"baz\"]\n",
    "seq2 = [\"one\", \"two\", \"three\"]\n",
    "zipped = zip(seq1, seq2)\n",
    "list(zipped)"
   ]
  },
  {
   "cell_type": "markdown",
   "id": "a489423f-ce08-42ac-a591-8f53cc42e061",
   "metadata": {},
   "source": [
    "`zip` 可以处理任意多的序列，元素的个数取决于最短的序列，其余的丢弃："
   ]
  },
  {
   "cell_type": "code",
   "execution_count": 36,
   "id": "cea5147c-c8c6-4d57-b89a-0321c9f1a2cb",
   "metadata": {},
   "outputs": [
    {
     "name": "stdout",
     "output_type": "stream",
     "text": [
      "[('foo', 'one', False), ('bar', 'two', True)]\n"
     ]
    }
   ],
   "source": [
    "seq3 = [False, True]\n",
    "zipped = zip(seq1, seq2, seq3)\n",
    "print(list(zipped))"
   ]
  },
  {
   "cell_type": "markdown",
   "id": "dab5a616-c8b7-4a94-a284-8ef663b797c8",
   "metadata": {},
   "source": [
    "`zip` 可以同时迭代多个序列，并结合 `enumerate` 使用："
   ]
  },
  {
   "cell_type": "code",
   "execution_count": 37,
   "id": "22c23a18-3baf-40e3-afbb-335d0bd6baf8",
   "metadata": {},
   "outputs": [
    {
     "name": "stdout",
     "output_type": "stream",
     "text": [
      "0: foo, one\n",
      "1: bar, two\n",
      "2: baz, three\n"
     ]
    }
   ],
   "source": [
    "for i, (a, b) in enumerate(zip(seq1, seq2)):\n",
    "    print(\"{0}: {1}, {2}\".format(i, a, b))"
   ]
  },
  {
   "cell_type": "markdown",
   "id": "50cf4fd5-4da0-4a0d-8410-0d5612db87ff",
   "metadata": {},
   "source": [
    "`zip`可以将压缩的序列，按位置解压出来，如下所示将`tuple`的第一位都解压到`first_names`中。也可以当作把行的列表转换为列的列表："
   ]
  },
  {
   "cell_type": "code",
   "execution_count": 38,
   "id": "3161d23b-569c-4890-a0e8-a2635da36968",
   "metadata": {},
   "outputs": [
    {
     "name": "stdout",
     "output_type": "stream",
     "text": [
      "<class 'list'>\n",
      "<class 'tuple'>\n",
      "('Nolan', 'Roger', 'Schilling')\n",
      "('Ryan', 'Clemens', 'Curt')\n"
     ]
    }
   ],
   "source": [
    "pitchers = [(\"Nolan\", \"Ryan\"), (\"Roger\", \"Clemens\"), (\"Schilling\", \"Curt\")]\n",
    "print(type(pitchers))\n",
    "first_names, last_names = zip(*pitchers)\n",
    "print(type(first_names))\n",
    "print(first_names)\n",
    "print(last_names)"
   ]
  },
  {
   "cell_type": "markdown",
   "id": "caa45320-fa77-437d-a503-8cb3b40c0456",
   "metadata": {},
   "source": [
    "## reversed函数\n",
    "\n",
    "`reversed` 可以从后向前迭代一个序列：\n",
    ">要记住 `reversed` 是一个生成器（后面详细介绍），只有实体化（即列表或for循环）之后才能创建翻转的序列。"
   ]
  },
  {
   "cell_type": "code",
   "execution_count": 39,
   "id": "d2d9061e-bb3f-43e7-9450-8d93c8fd71ef",
   "metadata": {},
   "outputs": [
    {
     "name": "stdout",
     "output_type": "stream",
     "text": [
      "[9, 8, 7, 6, 5, 4, 3, 2, 1, 0]\n"
     ]
    }
   ],
   "source": [
    "nums = list(reversed(range(10)))\n",
    "print(nums)"
   ]
  },
  {
   "cell_type": "code",
   "execution_count": 40,
   "id": "ba8fbb77-390e-4e2e-a715-b01a4729aa9b",
   "metadata": {},
   "outputs": [
    {
     "name": "stdout",
     "output_type": "stream",
     "text": [
      "<range_iterator object at 0x00000282FDB92BB0>\n"
     ]
    }
   ],
   "source": [
    "nums = reversed(range(10))\n",
    "print(nums)"
   ]
  },
  {
   "cell_type": "code",
   "execution_count": null,
   "id": "72a319eb-ffcb-4843-93d8-ffecd6a3eb16",
   "metadata": {},
   "outputs": [],
   "source": []
  },
  {
   "cell_type": "code",
   "execution_count": null,
   "id": "50d4a440-ca17-4259-af14-528b06986974",
   "metadata": {},
   "outputs": [],
   "source": []
  },
  {
   "cell_type": "code",
   "execution_count": null,
   "id": "a54975c2-1a7f-4bcc-8727-59f7a83b5f89",
   "metadata": {},
   "outputs": [],
   "source": []
  },
  {
   "cell_type": "code",
   "execution_count": null,
   "id": "f48dec71-6af9-4622-8ba2-3d3f9caf0afe",
   "metadata": {},
   "outputs": [],
   "source": []
  },
  {
   "cell_type": "code",
   "execution_count": null,
   "id": "98cefd9c-dc7e-4369-9ecd-353b6e1a7f47",
   "metadata": {},
   "outputs": [],
   "source": []
  },
  {
   "cell_type": "code",
   "execution_count": null,
   "id": "419a989a-73f4-4f3d-a535-6252c58c46ac",
   "metadata": {},
   "outputs": [],
   "source": []
  },
  {
   "cell_type": "code",
   "execution_count": null,
   "id": "ff319ccf-df74-432a-8763-57a4e3fd48ed",
   "metadata": {},
   "outputs": [],
   "source": []
  },
  {
   "cell_type": "markdown",
   "id": "40ce0b5a-5acb-4018-9e80-21180dc9ab0c",
   "metadata": {},
   "source": [
    "# 函数\n",
    "函数使用 `def` 关键字声明，用 `return` 关键字返回值：\n",
    "```python\n",
    "def my_function(x, y, z=1.5):\n",
    "    if z > 1:\n",
    "        return z * (x + y)\n",
    "    else:\n",
    "        return z / (x + y) \n",
    "```"
   ]
  },
  {
   "cell_type": "code",
   "execution_count": null,
   "id": "29184230-4931-4578-926c-7ea862807aa5",
   "metadata": {},
   "outputs": [],
   "source": []
  },
  {
   "cell_type": "markdown",
   "id": "25502423-f59f-4da9-8345-e6cbfdfc0515",
   "metadata": {},
   "source": [
    "## 命名空间、作用域，和局部函数\n",
    "\n",
    "函数可以访问两种不同作用域中的变量：全局（global）和局部（local）。Python有一种更科学的用于描述变量作用域的名称，即命名空间（namespace）。任何在函数中赋值的变量默认都是被分配到局部命名空间（local namespace）中的。局部命名空间是在函数被调用时创建的，函数参数会立即填入该命名空间。在函数执行完毕之后，局部命名空间就会被销毁（会有一些例外的情况，具体请参见后面介绍闭包的那一节）。看看下面这个函数：\n",
    "\n"
   ]
  },
  {
   "cell_type": "code",
   "execution_count": 41,
   "id": "22113557-a72f-4434-86e1-5e6bd850a62b",
   "metadata": {},
   "outputs": [
    {
     "name": "stdout",
     "output_type": "stream",
     "text": [
      "baz\n"
     ]
    }
   ],
   "source": [
    "def func():\n",
    "    a = []\n",
    "    for i in range(5):\n",
    "        a.append(i)\n",
    "\n",
    "\n",
    "func()\n",
    "print(a)"
   ]
  },
  {
   "cell_type": "markdown",
   "id": "28038d4c-bd3d-44b5-9786-d26913b2149f",
   "metadata": {},
   "source": [
    "调用func()之后，首先会创建出空列表a，然后添加5个元素，最后a会在该函数退出的时候被销毁。"
   ]
  },
  {
   "cell_type": "markdown",
   "id": "1083a57f-c4f3-4f5b-bce4-143379eeb540",
   "metadata": {
    "tags": []
   },
   "source": [
    "在函数中可以对全局变量进行`赋值操作`，但是必须在函数内部将变量用`global申明成全局`才行："
   ]
  },
  {
   "cell_type": "code",
   "execution_count": 42,
   "id": "d75037ae-510c-4402-b9ec-8f829ff3cb71",
   "metadata": {},
   "outputs": [
    {
     "name": "stdout",
     "output_type": "stream",
     "text": [
      "[0, 1, 2, 3, 4]\n"
     ]
    }
   ],
   "source": [
    "a = []\n",
    "\n",
    "\n",
    "def func():\n",
    "    # global a\n",
    "    for i in range(5):\n",
    "        a.append(i)\n",
    "\n",
    "\n",
    "func()\n",
    "print(a)"
   ]
  },
  {
   "cell_type": "markdown",
   "id": "ac649e86-a59e-4d11-9194-9babede5a282",
   "metadata": {},
   "source": [
    "## 返回多个值\n",
    "Python函数可以返回多个值。该函数`f()`其实只返回了一个对象，也就是一个元组，最后该元组会被拆包到各个结果变量中。`return_value`将会是一个含有3个返回值的三元元组。："
   ]
  },
  {
   "cell_type": "code",
   "execution_count": 43,
   "id": "ee8de3c5-284b-47dc-9910-226be5a601e3",
   "metadata": {},
   "outputs": [
    {
     "name": "stdout",
     "output_type": "stream",
     "text": [
      "5, 6, 7\n",
      "(5, 6, 7)\n"
     ]
    }
   ],
   "source": [
    "def f():\n",
    "    a = 5\n",
    "    b = 6\n",
    "    c = 7\n",
    "    return a, b, c\n",
    "\n",
    "\n",
    "a, b, c = f()\n",
    "return_value = f()\n",
    "print(\"{}, {}, {}\".format(a, b, c))\n",
    "print(return_value)"
   ]
  },
  {
   "cell_type": "markdown",
   "id": "4c29a7f5-260b-48c3-939f-8194b56933d5",
   "metadata": {},
   "source": [
    "用字典的方式返回多值："
   ]
  },
  {
   "cell_type": "code",
   "execution_count": 44,
   "id": "b18d0fb9-4749-4355-9aa7-588de7ebd530",
   "metadata": {},
   "outputs": [
    {
     "data": {
      "text/plain": [
       "{'a': 5, 'b': 6, 'c': 7}"
      ]
     },
     "execution_count": 44,
     "metadata": {},
     "output_type": "execute_result"
    }
   ],
   "source": [
    "def f():\n",
    "    a = 5\n",
    "    b = 6\n",
    "    c = 7\n",
    "    return {\"a\": a, \"b\": b, \"c\": c}\n",
    "\n",
    "f()"
   ]
  },
  {
   "cell_type": "markdown",
   "id": "157d1b68-37c7-46a9-948e-16dcd3750752",
   "metadata": {
    "tags": []
   },
   "source": [
    "## 函数也是对象\n",
    "由于Python函数都是对象，因此，在其他语言中较难表达的一些设计思想在Python中就要简单很多了。\n",
    "\n",
    "为了得到一组能用于分析工作的格式统一的字符串，需要做很多事情：去除空白符、删除各种标点符号、正确的大写格式等。\n",
    "\n",
    "常见方法是使用内建的字符串方法和正则表达式 `re` 模块，逐一调用所有操作："
   ]
  },
  {
   "cell_type": "code",
   "execution_count": 45,
   "id": "c7646a4f-d17a-4b73-ba6f-ab33a4f3c3a0",
   "metadata": {},
   "outputs": [
    {
     "data": {
      "text/plain": [
       "['Alabama', 'Georgia', 'Florida', 'South Carolina', 'West Virginia']"
      ]
     },
     "execution_count": 45,
     "metadata": {},
     "output_type": "execute_result"
    }
   ],
   "source": [
    "import re\n",
    "def clean_strings(strings):\n",
    "    result = []\n",
    "    for value in strings:\n",
    "        value = value.strip() #\n",
    "        value = re.sub('[!#?]', '', value) \n",
    "        value = value.title() # 标题化字符串\n",
    "        result.append(value)\n",
    "    return result\n",
    "\n",
    "states = [' Alabama ', 'Georgia!', 'FlOrIda', 'south carolina##', 'West virginia?']\n",
    "clean_strings(states)"
   ]
  },
  {
   "cell_type": "markdown",
   "id": "8a00d6d9-0af9-4c73-bd9d-f3e2e27dfcf7",
   "metadata": {},
   "source": [
    "也可以采用函数列表的方式，将需要执行的所有字符串操作用循环调用。这样只需要修改函数列表`clean_ops`就可以修改转换方式，提高`clean_strings`复用性："
   ]
  },
  {
   "cell_type": "code",
   "execution_count": 46,
   "id": "b61dbce8-50e6-40d3-921d-008fe47e9d3b",
   "metadata": {},
   "outputs": [
    {
     "data": {
      "text/plain": [
       "['Alabama', 'Georgia', 'Florida', 'South Carolina', 'West Virginia']"
      ]
     },
     "execution_count": 46,
     "metadata": {},
     "output_type": "execute_result"
    }
   ],
   "source": [
    "import re\n",
    "def remove_punctuation(value):\n",
    "    return re.sub('[!#?]', '', value) \n",
    "\n",
    "clean_ops = [str.strip, remove_punctuation, str.title] # 函数列表\n",
    "def clean_strings(strings, ops): #对于每一个str执行一次ops所有操作\n",
    "    result = []\n",
    "    for value in strings:\n",
    "        for function in ops:\n",
    "            value = function(value)\n",
    "        result.append(value)\n",
    "    return result\n",
    "\n",
    "states = [' Alabama ', 'Georgia!', 'FlOrIda', 'south carolina##', 'West virginia?']\n",
    "clean_strings(states, clean_ops)"
   ]
  },
  {
   "cell_type": "markdown",
   "id": "1e2536c7-8de4-4c5c-b54b-dff5fbde51a1",
   "metadata": {},
   "source": [
    "还可以将函数用作其他函数的参数，比如内置的`map`——在一组数据上应用一个函数："
   ]
  },
  {
   "cell_type": "code",
   "execution_count": 47,
   "id": "7a54ab36-b2fa-4b9b-bcb8-6c65ad0b3dca",
   "metadata": {},
   "outputs": [
    {
     "name": "stdout",
     "output_type": "stream",
     "text": [
      " Alabama \n",
      "Georgia\n",
      "FlOrIda\n",
      "south carolina\n",
      "West virginia\n"
     ]
    }
   ],
   "source": [
    "states = [' Alabama ', 'Georgia!', 'FlOrIda', 'south carolina##', 'West virginia?']\n",
    "for x in map(remove_punctuation, states):\n",
    "    print(x)"
   ]
  },
  {
   "cell_type": "markdown",
   "id": "a92257db-eb13-4b83-826b-1442a885e52a",
   "metadata": {},
   "source": [
    "## 匿名(lambda)函数\n",
    "Python支持`匿名(lambda)函数`。它仅由单条语句组成，`该语句的结果就是返回值`。通过lambda关键字定义的，这个关键字没有别的含义，仅仅是说`正在声明的是一个匿名函数`。"
   ]
  },
  {
   "cell_type": "code",
   "execution_count": 48,
   "id": "262d3947-07fc-4272-bcf8-d5710566d192",
   "metadata": {},
   "outputs": [],
   "source": [
    "def short_function():\n",
    "    return x * 2\n",
    "\n",
    "equiv_anon = lambda x: x * 2"
   ]
  },
  {
   "cell_type": "markdown",
   "id": "8b01e6f0-f113-40e0-bf59-a255da283d00",
   "metadata": {},
   "source": [
    "在数据分析工作中很多数据转换函数都以函数作为参数的。直接传入lambda函数比编写完整函数声明要少输入很多字（也更清晰），甚至比将lambda函数赋值给一个变量还要少输入很多字："
   ]
  },
  {
   "cell_type": "code",
   "execution_count": 49,
   "id": "91585b52-969e-4afe-af66-b8122d828844",
   "metadata": {},
   "outputs": [
    {
     "data": {
      "text/plain": [
       "[8, 0, 2, 10, 12]"
      ]
     },
     "execution_count": 49,
     "metadata": {},
     "output_type": "execute_result"
    }
   ],
   "source": [
    "def apply_to_list(some_list, f):\n",
    "    return [f(num) for num in some_list]\n",
    "\n",
    "nums = [4, 0, 1, 5, 6]\n",
    "apply_to_list(nums, lambda x: x * 2)"
   ]
  },
  {
   "cell_type": "markdown",
   "id": "e466d40a-dd85-4ad9-a193-5253193d949c",
   "metadata": {},
   "source": [
    "根据字符串`不同字母的数量`对字符串排序，通过传入`lambda`函数到列表的`sort`方法：\n",
    ">lambda函数之所以会被称为匿名函数，与def声明的函数不同，原因之一就是这种函数对象本身是没有提供名称name属性。"
   ]
  },
  {
   "cell_type": "code",
   "execution_count": 50,
   "id": "0155c06c-5dc3-4f3b-a820-32ecc759ad31",
   "metadata": {},
   "outputs": [
    {
     "data": {
      "text/plain": [
       "['aaaa', 'foo', 'abab', 'bar', 'card']"
      ]
     },
     "execution_count": 50,
     "metadata": {},
     "output_type": "execute_result"
    }
   ],
   "source": [
    "strings = ['foo', 'card', 'bar', 'aaaa', 'abab']\n",
    "strings.sort(key=lambda x: len(set(list(x)))) # x为strings中每个字符串不同字母的个数\n",
    "strings"
   ]
  },
  {
   "cell_type": "markdown",
   "id": "b82dc58a-2b5d-4a3f-870e-573aa2449785",
   "metadata": {},
   "source": [
    "## 柯里化 (curring)\n",
    "柯里化(currying)指的是通过`部分参数应用`(partial argument application)从现有函数派生出新函数的技术。例如，有一个执行两数相加的简单函数，通过这个函数可以派生出一个新的只有一个参数的函数——add_five，它用于对其参数加5："
   ]
  },
  {
   "cell_type": "code",
   "execution_count": 51,
   "id": "77790967-d86e-4a59-a6f4-e3a8ae03d2f8",
   "metadata": {},
   "outputs": [
    {
     "data": {
      "text/plain": [
       "9"
      ]
     },
     "execution_count": 51,
     "metadata": {},
     "output_type": "execute_result"
    }
   ],
   "source": [
    "def add_numbers(x, y):\n",
    "    return x + y \n",
    "add_five = lambda y:add_numbers(5, y)\n",
    "add_five(4)"
   ]
  },
  {
   "cell_type": "markdown",
   "id": "27b99483-9f9c-4743-b05e-01e7b4a34902",
   "metadata": {},
   "source": [
    "`add_numbers`的第二个参数称为“柯里化的”（curried），即定义了一个可以调用现有函数的新函数。内置的functools模块可以用partial函数将此过程简化：\n"
   ]
  },
  {
   "cell_type": "code",
   "execution_count": 52,
   "id": "0cb95937-d9f2-4a61-b58c-8ffe2f1593f4",
   "metadata": {},
   "outputs": [
    {
     "data": {
      "text/plain": [
       "8"
      ]
     },
     "execution_count": 52,
     "metadata": {},
     "output_type": "execute_result"
    }
   ],
   "source": [
    "from functools import partial\n",
    "add_five = partial(add_numbers, 5)\n",
    "add_five(3)"
   ]
  },
  {
   "cell_type": "markdown",
   "id": "5b6e74ca-89d3-4ed0-8e16-f918407a0ba0",
   "metadata": {},
   "source": [
    "## 生成器\n",
    "能以一种一致的方式对序列进行迭代（比如列表中的对象或文件中的行）是Python的一个重要特点。这是通过一种叫做迭代器协议（iterator protocol，它是一种使对象可迭代的通用方式）的方式实现的，一个原生的使对象可迭代的方法。比如说，对字典进行迭代可以得到其所有的键："
   ]
  },
  {
   "cell_type": "code",
   "execution_count": 53,
   "id": "2a02b3fb-8516-4cb3-8c38-e95a1c6ad0dd",
   "metadata": {},
   "outputs": [
    {
     "name": "stdout",
     "output_type": "stream",
     "text": [
      "a\n",
      "b\n",
      "c\n"
     ]
    }
   ],
   "source": [
    "some_dict = {'a': 1, 'b': 2, 'c': 3}\n",
    "for value in some_dict:\n",
    "    print(value)"
   ]
  },
  {
   "cell_type": "code",
   "execution_count": null,
   "id": "f9aa02d0-1a73-44bd-b8a7-70bc7c680cb5",
   "metadata": {},
   "outputs": [],
   "source": []
  },
  {
   "cell_type": "code",
   "execution_count": null,
   "id": "15852bb1-fa8a-4d34-9607-b3f3649bbac9",
   "metadata": {},
   "outputs": [],
   "source": []
  },
  {
   "cell_type": "code",
   "execution_count": null,
   "id": "c658079f-b746-4f96-ba2b-75fda70d1c74",
   "metadata": {},
   "outputs": [],
   "source": []
  },
  {
   "cell_type": "code",
   "execution_count": null,
   "id": "b4ed32de-7eaa-4a3c-b363-712a51b3fd58",
   "metadata": {},
   "outputs": [],
   "source": []
  },
  {
   "cell_type": "code",
   "execution_count": null,
   "id": "ec311121-9f30-485c-ae6e-9f347a1768a5",
   "metadata": {},
   "outputs": [],
   "source": []
  }
 ],
 "metadata": {
  "kernelspec": {
   "display_name": "Python 3 (ipykernel)",
   "language": "python",
   "name": "python3"
  },
  "language_info": {
   "codemirror_mode": {
    "name": "ipython",
    "version": 3
   },
   "file_extension": ".py",
   "mimetype": "text/x-python",
   "name": "python",
   "nbconvert_exporter": "python",
   "pygments_lexer": "ipython3",
   "version": "3.9.12"
  },
  "latex_envs": {
   "LaTeX_envs_menu_present": true,
   "autoclose": false,
   "autocomplete": true,
   "bibliofile": "biblio.bib",
   "cite_by": "apalike",
   "current_citInitial": 1,
   "eqLabelWithNumbers": true,
   "eqNumInitial": 1,
   "hotkeys": {
    "equation": "Ctrl-E",
    "itemize": "Ctrl-I"
   },
   "labels_anchors": false,
   "latex_user_defs": false,
   "report_style_numbering": false,
   "user_envs_cfg": false
  },
  "toc": {
   "base_numbering": 1,
   "nav_menu": {},
   "number_sections": true,
   "sideBar": true,
   "skip_h1_title": false,
   "title_cell": "Table of Contents",
   "title_sidebar": "Contents",
   "toc_cell": true,
   "toc_position": {
    "height": "calc(100% - 180px)",
    "left": "10px",
    "top": "150px",
    "width": "229.326px"
   },
   "toc_section_display": true,
   "toc_window_display": true
  },
  "toc-autonumbering": true,
  "toc-showcode": false,
  "toc-showmarkdowntxt": false,
  "toc-showtags": false,
  "varInspector": {
   "cols": {
    "lenName": 16,
    "lenType": 16,
    "lenVar": 40
   },
   "kernels_config": {
    "python": {
     "delete_cmd_postfix": "",
     "delete_cmd_prefix": "del ",
     "library": "var_list.py",
     "varRefreshCmd": "print(var_dic_list())"
    },
    "r": {
     "delete_cmd_postfix": ") ",
     "delete_cmd_prefix": "rm(",
     "library": "var_list.r",
     "varRefreshCmd": "cat(var_dic_list()) "
    }
   },
   "types_to_exclude": [
    "module",
    "function",
    "builtin_function_or_method",
    "instance",
    "_Feature"
   ],
   "window_display": false
  }
 },
 "nbformat": 4,
 "nbformat_minor": 5
}
