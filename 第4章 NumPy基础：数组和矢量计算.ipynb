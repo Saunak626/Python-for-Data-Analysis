{
 "cells": [
  {
   "cell_type": "markdown",
   "id": "71a7cb26-8fbe-4e32-8af3-c192b5f7bd4b",
   "metadata": {},
   "source": [
    "\n",
    "`NumPy(Numerical Python)`是Python数值计算的基础包。大多数提供科学计算的包都是用NumPy的数组作为构建基础。\n",
    "NumPy的部分功能如下：\n",
    "- `ndarray(The N-dimensional array)`，一个具有矢量算术运算和复杂广播能力的快速且节省空间的多维数组。\n",
    "- 用于对整组数据进行快速运算的标准数学函数`无需编写循环`。\n",
    "- 用于读写磁盘数据的工具以及用于操作内存映射文件的工具。\n",
    "- 线性代数、随机数生成以及傅里叶变换功能。\n",
    "- 用于集成由C、C++、Fortran等语言编写的代码的A C API。\n",
    "\n",
    "由于NumPy提供了一个简单易用的C API，因此很容易将数据传递给由低级语言编写的外部库，外部库也能以NumPy数组的形式将数据返回给Python。这个功能使Python成为一种包装C/C++/Fortran历史代码库的选择，并使被包装库拥有一个动态的、易用的接口。\n",
    "\n",
    "`NumPy本身并没有提供多么高级的数据分析功能`，理解NumPy数组以及面向数组的计算将有助于你更加高效地使用诸如pandas之类的工具。因为NumPy是一个很大的题目，我会在附录A中介绍更多NumPy高级功能，比如广播。\n",
    "\n",
    "对于大部分数据分析应用而言，最关注的功能主要集中在：\n",
    "- 用于数据整理和清理、子集构造和过滤、转换等快速的矢量化数组运算。\n",
    "- 常用的数组算法，如排序、唯一化、集合运算等。\n",
    "- 高效的描述统计和数据聚合/摘要运算。\n",
    "- 用于异构数据集的合并/连接运算的数据对齐和关系型数据运算。\n",
    "- 将条件逻辑表述为数组表达式（而不是带有if-elif-else分支的循环）。\n",
    "- 数据的分组运算（聚合、转换、函数应用等）。\n",
    "\n",
    "虽然NumPy提供了通用的数值数据处理的计算基础，但大多数读者可能还是想将pandas作为统计和分析工作的基础，尤其是处理表格数据时。pandas还提供了一些NumPy所没有的领域特定的功能，如时间序列处理等。\n",
    ">Python的面向数组计算可以追溯到1995年，Jim Hugunin创建了Numeric库。接下来的10年，许多科学编程社区纷纷开始使用Python的数组编程，但是进入21世纪，库的生态系统变得碎片化了。2005年，Travis Oliphant从Numeric和Numarray项目整了出了NumPy项目，进而所有社区都集合到了这个框架下。\n",
    "\n",
    "NumPy之于数值计算特别重要的原因之一，是因为它可以高效处理大数组的数据。这是因为：\n",
    "- NumPy是在一个`连续的内存块中存储数据`，独立于其他Python内置对象。NumPy的C语言编写的算法库可以操作内存，而不必进行类型检查或其它前期工作。\n",
    "- 比起Python的内置序列，NumPy数组使用的内存更少。\n",
    "- NumPy可以在整个数组上执行复杂的计算，而不需要Python的for循环。\n",
    "\n",
    "要搞明白具体的性能差距，考察一个包含一百万整数的数组，和一个等价的Python列表：\n"
   ]
  },
  {
   "cell_type": "code",
   "execution_count": 3,
   "id": "c29b74e4-c399-4ce0-b00f-149292b3d952",
   "metadata": {},
   "outputs": [],
   "source": [
    "import numpy as np\n",
    "my_arr = np.arange(1000000)\n",
    "my_list = list(range(1000000))\n",
    "\n",
    "# 两个序列同时乘以2\n",
    "#%time for _ in range(10): my_arr2 = my_arr * 2\n",
    "#%time for _ in range(10): my_list2 = [x * 2 for x in my_list]"
   ]
  },
  {
   "cell_type": "markdown",
   "id": "856350c5-9ce3-48e9-9ff1-9e0ed1d7a80d",
   "metadata": {},
   "source": [
    "基于NumPy的算法要比纯Python快10到100倍（甚至更快），并且使用的内存更少。"
   ]
  },
  {
   "cell_type": "markdown",
   "id": "c243295a-4ef3-4677-9d0f-27648027c90b",
   "metadata": {},
   "source": [
    "# ndarray(The N-dimensional array)\n",
    "NumPy最重要的一个特点就是其N维数组对象（即ndarray），该对象是一个快速而灵活的大数据集容器。你可以利用这种数组对整块数据执行一些数学运算，其语法跟标量元素之间的运算一样。\n",
    "\n",
    "要明白Python是如何利用与标量值类似的语法进行批次计算，我先引入NumPy，然后生成一个包含随机数据的小数组："
   ]
  },
  {
   "cell_type": "code",
   "execution_count": 4,
   "id": "901b5adb-facb-47f7-8f5e-81863d94955e",
   "metadata": {},
   "outputs": [
    {
     "name": "stdout",
     "output_type": "stream",
     "text": [
      "[[ 0.8188977  -1.10489225 -1.13293117]\n",
      " [-2.58335767 -1.9156472  -0.91761511]]\n",
      "[[  8.18897698 -11.04892253 -11.32931167]\n",
      " [-25.83357672 -19.15647197  -9.17615113]]\n",
      "[[ 1.6377954  -2.20978451 -2.26586233]\n",
      " [-5.16671534 -3.83129439 -1.83523023]]\n"
     ]
    }
   ],
   "source": [
    "import numpy as np\n",
    "data = np.random.randn(2, 3)\n",
    "print(data)\n",
    "print(10*data)\n",
    "print(data+data)"
   ]
  },
  {
   "cell_type": "markdown",
   "id": "2107f331-8e2f-43ca-977f-50053f0827ec",
   "metadata": {},
   "source": [
    "`ndarray`是一个通用的同构数据多维容器，其中的所有元素必须是`相同类型`。每个数组都有一个`shape（一个表示各维度大小的元组）`和一个`dtype（一个用于说明数组数据类型的对象）`："
   ]
  },
  {
   "cell_type": "code",
   "execution_count": 5,
   "id": "a1ee8ebb-eb2d-493e-8ea2-e36d627fa5c5",
   "metadata": {},
   "outputs": [
    {
     "data": {
      "text/plain": [
       "(2, 3)"
      ]
     },
     "execution_count": 5,
     "metadata": {},
     "output_type": "execute_result"
    }
   ],
   "source": [
    "data.shape"
   ]
  },
  {
   "cell_type": "code",
   "execution_count": 6,
   "id": "11dfca62-ae23-4f58-9885-59f3d602fcfe",
   "metadata": {},
   "outputs": [
    {
     "data": {
      "text/plain": [
       "dtype('float64')"
      ]
     },
     "execution_count": 6,
     "metadata": {},
     "output_type": "execute_result"
    }
   ],
   "source": [
    "data.dtype"
   ]
  },
  {
   "cell_type": "markdown",
   "id": "1035cde9-911a-413e-b5fe-49ad001ad2b6",
   "metadata": {},
   "source": [
    "本章将会介绍NumPy数组的基本用法，这对于本书后面各章的理解基本够用。虽然大多数数据分析工作不需要深入理解NumPy，但是精通面向数组的编程和思维方式是成为Python科学计算牛人的一大关键步骤。\n",
    ">当你在本书中看到“数组”、“NumPy数组”、\"ndarray\"时，基本上都指的是同一样东西，即ndarray对象。"
   ]
  },
  {
   "cell_type": "markdown",
   "id": "9cea029a-b794-42cf-a94c-9b53adbbbce2",
   "metadata": {
    "tags": [],
    "toc-hr-collapsed": true
   },
   "source": [
    "## 创建ndarray\n",
    "### `array`函数\n",
    "`array`函数可以接受一切序列型的对象（包括其他数组），然后输出一个`NumPy`数组。以一个列表的转换为例："
   ]
  },
  {
   "cell_type": "code",
   "execution_count": 7,
   "id": "1ad59852-0043-4c69-9a20-afb1c825ccb7",
   "metadata": {},
   "outputs": [
    {
     "name": "stdout",
     "output_type": "stream",
     "text": [
      "(5,)\n",
      "float64\n"
     ]
    },
    {
     "data": {
      "text/plain": [
       "array([6. , 7.5, 8. , 0. , 1. ])"
      ]
     },
     "execution_count": 7,
     "metadata": {},
     "output_type": "execute_result"
    }
   ],
   "source": [
    "data1 = [6, 7.5, 8, 0, 1]\n",
    "arr1 = np.array(data1)\n",
    "print(arr1.shape)\n",
    "print(arr1.dtype)\n",
    "arr1"
   ]
  },
  {
   "cell_type": "markdown",
   "id": "e7155792-204f-48c3-931d-ddd9281a7343",
   "metadata": {},
   "source": [
    "嵌套序列（比如由一组等长列表组成的列表）将会被转换为一个多维数组："
   ]
  },
  {
   "cell_type": "code",
   "execution_count": 8,
   "id": "ed78a883-c71e-4f7a-9c0c-75a184b4975a",
   "metadata": {},
   "outputs": [
    {
     "data": {
      "text/plain": [
       "array([[1, 2, 3, 4],\n",
       "       [5, 6, 7, 8]])"
      ]
     },
     "execution_count": 8,
     "metadata": {},
     "output_type": "execute_result"
    }
   ],
   "source": [
    "data2 = [[1, 2, 3, 4], [5, 6, 7, 8]]\n",
    "arr2 = np.array(data2)\n",
    "arr2"
   ]
  },
  {
   "cell_type": "markdown",
   "id": "b57f4933-54d8-49a5-a999-f83aa643ec5a",
   "metadata": {},
   "source": [
    "### `zeros`、`ones`和`empty`\n",
    "除`np.array`之外，还有一些函数也可以新建数组。`zeros`和`ones`分别可以创建指定长度或形状的全0或全1数组。`empty`可以创建一个没有任何具体值的数组。这些方法的入参都是一个表示形状的`元组(x, y)`："
   ]
  },
  {
   "cell_type": "code",
   "execution_count": 9,
   "id": "33be1705-f446-431f-910d-9b3dba365c30",
   "metadata": {},
   "outputs": [
    {
     "data": {
      "text/plain": [
       "array([0., 0., 0., 0., 0.])"
      ]
     },
     "execution_count": 9,
     "metadata": {},
     "output_type": "execute_result"
    }
   ],
   "source": [
    "np.zeros(5)"
   ]
  },
  {
   "cell_type": "code",
   "execution_count": 10,
   "id": "63c4efa6-4411-497b-b233-68e828e2f1fb",
   "metadata": {},
   "outputs": [
    {
     "data": {
      "text/plain": [
       "array([[1., 1., 1.],\n",
       "       [1., 1., 1.]])"
      ]
     },
     "execution_count": 10,
     "metadata": {},
     "output_type": "execute_result"
    }
   ],
   "source": [
    "np.ones((2, 3))"
   ]
  },
  {
   "cell_type": "code",
   "execution_count": 11,
   "id": "befcd4da-0bc4-42fd-bb3e-cf01f0556832",
   "metadata": {},
   "outputs": [
    {
     "data": {
      "text/plain": [
       "array([[[1.01855798e-312, 1.06099790e-312],\n",
       "        [1.01855798e-312, 9.54898106e-313],\n",
       "        [1.16709769e-312, 1.01855798e-312]],\n",
       "\n",
       "       [[1.23075756e-312, 1.16709769e-312],\n",
       "        [1.10343781e-312, 9.76118064e-313],\n",
       "        [1.12465777e-312, 1.90979621e-312]]])"
      ]
     },
     "execution_count": 11,
     "metadata": {},
     "output_type": "execute_result"
    }
   ],
   "source": [
    "np.empty((2, 3, 2))"
   ]
  },
  {
   "cell_type": "markdown",
   "id": "22f32b02-2212-411a-bf3f-9070967fe6b8",
   "metadata": {},
   "source": [
    "> 注意：认为np.empty会返回全0数组的想法是不安全的。很多情况下（如前所示），它返回的都是一些未初始化的垃圾值。"
   ]
  },
  {
   "cell_type": "markdown",
   "id": "6d1894ae-0ffc-4dc9-936f-03c97a66a05e",
   "metadata": {},
   "source": [
    "arange是Python内置函数range的数组版："
   ]
  },
  {
   "cell_type": "code",
   "execution_count": 12,
   "id": "c97fbd2f-7545-4c8e-8ee7-b200ee8d4ec4",
   "metadata": {},
   "outputs": [
    {
     "data": {
      "text/plain": [
       "array([0, 1, 2, 3, 4, 5, 6, 7, 8, 9])"
      ]
     },
     "execution_count": 12,
     "metadata": {},
     "output_type": "execute_result"
    }
   ],
   "source": [
    "np.arange(10)"
   ]
  },
  {
   "cell_type": "markdown",
   "id": "0ffcd417-79c2-4bc2-830a-1c3c1bd36dfd",
   "metadata": {},
   "source": [
    "表4-1列出了一些数组创建函数。由于NumPy关注的是数值计算，如果没有特别指定，数据类型基本都是float64（浮点数）。"
   ]
  },
  {
   "cell_type": "markdown",
   "id": "deed0eba-81a2-46d1-a890-ed88ee6c73d2",
   "metadata": {},
   "source": [
    "![](https://obsidian-swq.oss-cn-shanghai.aliyuncs.com/20220715155334.png)"
   ]
  },
  {
   "cell_type": "markdown",
   "id": "ac45f081-6041-4e9d-9e5b-7c846edccc75",
   "metadata": {},
   "source": [
    "## ndarray的数据类型\n",
    "dtype（数据类型）是一个特殊的对象，它含有ndarray将一块内存解释为特定数据类型所需的信息："
   ]
  },
  {
   "cell_type": "code",
   "execution_count": 13,
   "id": "08e08b31-7772-4f05-b935-fccc9a737c06",
   "metadata": {},
   "outputs": [
    {
     "data": {
      "text/plain": [
       "dtype('float64')"
      ]
     },
     "execution_count": 13,
     "metadata": {},
     "output_type": "execute_result"
    }
   ],
   "source": [
    "arr1 = np.array([1, 2, 3], dtype=np.float64)\n",
    "arr1.dtype"
   ]
  },
  {
   "cell_type": "code",
   "execution_count": 14,
   "id": "3d3702d8-8c0d-4f4a-8386-2270d14499fb",
   "metadata": {},
   "outputs": [
    {
     "data": {
      "text/plain": [
       "dtype('int32')"
      ]
     },
     "execution_count": 14,
     "metadata": {},
     "output_type": "execute_result"
    }
   ],
   "source": [
    "arr2 = np.array([1, 2, 3], dtype=np.int32)\n",
    "arr2.dtype"
   ]
  },
  {
   "cell_type": "markdown",
   "id": "4706ce61-df28-43c3-a7c7-76b43bf1d8d1",
   "metadata": {},
   "source": [
    "dtype是NumPy灵活交互其它系统的源泉之一。多数情况下，它们直接映射到相应的机器表示，这使得“读写磁盘上的二进制数据流”以及“集成低级语言代码（如C、Fortran）”等工作变得更加简单。\n",
    "\n",
    "数值型dtype的命名方式相同：一个类型名（如float或int），后面跟一个用于表示各元素位长的数字。标准的双精度浮点值（即Python中的float对象）需要占用8字节（即64位），即记作float64。\n",
    "\n",
    "表4-2列出了NumPy所支持的全部数据类型。"
   ]
  },
  {
   "cell_type": "markdown",
   "id": "108b3dc7-5c9b-4a66-9b81-2915e7e4dbd9",
   "metadata": {},
   "source": [
    "![](https://obsidian-swq.oss-cn-shanghai.aliyuncs.com/20220715160017.png)\n",
    "![](https://obsidian-swq.oss-cn-shanghai.aliyuncs.com/20220715160052.png)"
   ]
  },
  {
   "cell_type": "markdown",
   "id": "e8bab45b-e763-473e-9d12-50a60bca5376",
   "metadata": {},
   "source": [
    ">笔记：记不住这些NumPy的dtype也没关系。通常只需要知道你所处理的数据的大致类型是浮点数、复数、整数、布尔值、字符串，还是普通的Python对象即可。当你需要控制数据在内存和磁盘中的存储方式时（尤其是对大数据集），那就得了解如何控制存储类型。\n"
   ]
  },
  {
   "cell_type": "markdown",
   "id": "87f31a76-38a1-416c-b009-791acc87c8d5",
   "metadata": {},
   "source": [
    "你可以通过ndarray的`astype`方法明确地将一个数组从一个dtype转换成另一个dtype："
   ]
  },
  {
   "cell_type": "code",
   "execution_count": 15,
   "id": "138d65d4-276e-4530-9903-ae65ae6f81a7",
   "metadata": {},
   "outputs": [
    {
     "data": {
      "text/plain": [
       "dtype('int32')"
      ]
     },
     "execution_count": 15,
     "metadata": {},
     "output_type": "execute_result"
    }
   ],
   "source": [
    "arr = np.array([1, 2, 3, 4, 5])\n",
    "arr.dtype"
   ]
  },
  {
   "cell_type": "code",
   "execution_count": 16,
   "id": "6c4c5bed-d320-43c0-9c85-f607270e28ae",
   "metadata": {},
   "outputs": [
    {
     "data": {
      "text/plain": [
       "dtype('float64')"
      ]
     },
     "execution_count": 16,
     "metadata": {},
     "output_type": "execute_result"
    }
   ],
   "source": [
    "float_arr = arr.astype(np.float64)\n",
    "float_arr.dtype"
   ]
  },
  {
   "cell_type": "markdown",
   "id": "9265d1e7-fb58-40ae-954f-bd91af8945e0",
   "metadata": {},
   "source": [
    "如果将浮点数转换成整数，则小数部分将会被截取删除："
   ]
  },
  {
   "cell_type": "code",
   "execution_count": 17,
   "id": "e54693bb-ab2e-42fc-aad2-40e225de68e9",
   "metadata": {},
   "outputs": [
    {
     "data": {
      "text/plain": [
       "array([ 3.7, -1.2, -2.6,  0.5, 12.9, 10.1])"
      ]
     },
     "execution_count": 17,
     "metadata": {},
     "output_type": "execute_result"
    }
   ],
   "source": [
    "arr = np.array([3.7, -1.2, -2.6, 0.5, 12.9, 10.1])\n",
    "arr"
   ]
  },
  {
   "cell_type": "code",
   "execution_count": 18,
   "id": "d977b358-9695-4a2c-8f7d-eb8bc731ac8c",
   "metadata": {},
   "outputs": [
    {
     "data": {
      "text/plain": [
       "array([ 3, -1, -2,  0, 12, 10])"
      ]
     },
     "execution_count": 18,
     "metadata": {},
     "output_type": "execute_result"
    }
   ],
   "source": [
    "arr.astype(np.int32)"
   ]
  },
  {
   "cell_type": "markdown",
   "id": "b2a16e2d-26b4-490f-bdd2-9b75eeb30eef",
   "metadata": {},
   "source": [
    "如果某字符串数组表示的全是数字，也可以用astype将其转换为数值形式："
   ]
  },
  {
   "cell_type": "code",
   "execution_count": 19,
   "id": "169937f5-2ba4-4c02-a83c-5980bd786f29",
   "metadata": {},
   "outputs": [
    {
     "data": {
      "text/plain": [
       "array([ 1.25, -9.6 , 42.  ])"
      ]
     },
     "execution_count": 19,
     "metadata": {},
     "output_type": "execute_result"
    }
   ],
   "source": [
    "numeric_strings = np.array(['1.25', '-9.6', '42'], dtype=np.string_)\n",
    "numeric_strings.astype(float) #可将np.float64简写为float"
   ]
  },
  {
   "cell_type": "markdown",
   "id": "c4e2465d-7d48-4513-a3e9-487722a139ed",
   "metadata": {},
   "source": [
    ">使用numpy.string_类型时，一定要小心，因为NumPy的字符串数据是大小固定的，发生截取时，不会发出警告。pandas提供了更多非数值数据的便利的处理方法。"
   ]
  },
  {
   "cell_type": "markdown",
   "id": "04780932-08e8-46ec-b55c-8348a237abd1",
   "metadata": {},
   "source": [
    "数组的dtype可以传入`astype`来修改另一个数组的数据类型："
   ]
  },
  {
   "cell_type": "code",
   "execution_count": 20,
   "id": "e44371d3-dee8-4396-bf6a-4b6e5dbd8bc8",
   "metadata": {},
   "outputs": [
    {
     "data": {
      "text/plain": [
       "array([0, 1, 2, 3, 4, 5, 6, 7, 8, 9])"
      ]
     },
     "execution_count": 20,
     "metadata": {},
     "output_type": "execute_result"
    }
   ],
   "source": [
    "int_array = np.arange(10)\n",
    "int_array"
   ]
  },
  {
   "cell_type": "code",
   "execution_count": 21,
   "id": "942a0adb-801c-4409-a5f0-eec9511ab28b",
   "metadata": {},
   "outputs": [
    {
     "data": {
      "text/plain": [
       "array([0.22 , 0.27 , 0.357, 0.38 , 0.44 , 0.5  ])"
      ]
     },
     "execution_count": 21,
     "metadata": {},
     "output_type": "execute_result"
    }
   ],
   "source": [
    "calibers = np.array([.22, .270, .357, .380, .44, .50], dtype=np.float64)\n",
    "calibers"
   ]
  },
  {
   "cell_type": "code",
   "execution_count": 22,
   "id": "9f081aa5-0b8c-478f-9702-cbd2207b6bba",
   "metadata": {},
   "outputs": [
    {
     "data": {
      "text/plain": [
       "array([0., 1., 2., 3., 4., 5., 6., 7., 8., 9.])"
      ]
     },
     "execution_count": 22,
     "metadata": {},
     "output_type": "execute_result"
    }
   ],
   "source": [
    "int_array.astype(calibers.dtype)"
   ]
  },
  {
   "cell_type": "markdown",
   "id": "4dc3b176-d927-4844-ac81-4b154af0716d",
   "metadata": {},
   "source": [
    "可以用简洁的类型代码，如`u4`来表示dtype："
   ]
  },
  {
   "cell_type": "code",
   "execution_count": 23,
   "id": "cfb2f8f0-a7a9-48c3-a6a9-fed15a79de4b",
   "metadata": {},
   "outputs": [
    {
     "data": {
      "text/plain": [
       "array([         0, 1075314688,          0, 1075707904,          0,\n",
       "       1075838976,          0, 1072693248], dtype=uint32)"
      ]
     },
     "execution_count": 23,
     "metadata": {},
     "output_type": "execute_result"
    }
   ],
   "source": [
    "empty_uint32 = np.empty(8, dtype='u4')\n",
    "empty_uint32"
   ]
  },
  {
   "cell_type": "markdown",
   "id": "3da5462c-358c-4dc3-8da5-ff1c96139538",
   "metadata": {},
   "source": [
    "## NumPy数组的运算\n",
    "不用编写循环即可对数据执行批量运算。NumPy用户称其为矢量化(vectorization)。\n",
    "\n",
    "大小相等的数组之间的任何算术运算都会将运算`应用到元素级`："
   ]
  },
  {
   "cell_type": "code",
   "execution_count": 24,
   "id": "a5f6dd61-aa73-425b-8ffc-04ee07575faf",
   "metadata": {},
   "outputs": [
    {
     "data": {
      "text/plain": [
       "array([[1., 2., 3.],\n",
       "       [4., 5., 6.]])"
      ]
     },
     "execution_count": 24,
     "metadata": {},
     "output_type": "execute_result"
    }
   ],
   "source": [
    "arr = np.array([[1., 2., 3.], [4., 5., 6.]])\n",
    "arr"
   ]
  },
  {
   "cell_type": "code",
   "execution_count": 25,
   "id": "033ec38a-e2ca-4882-988d-707142f6f21d",
   "metadata": {},
   "outputs": [
    {
     "data": {
      "text/plain": [
       "array([[ 1.,  4.,  9.],\n",
       "       [16., 25., 36.]])"
      ]
     },
     "execution_count": 25,
     "metadata": {},
     "output_type": "execute_result"
    }
   ],
   "source": [
    "arr * arr"
   ]
  },
  {
   "cell_type": "code",
   "execution_count": 26,
   "id": "5bf86719-0455-4bd0-8561-4922072977ed",
   "metadata": {},
   "outputs": [
    {
     "data": {
      "text/plain": [
       "array([[0., 0., 0.],\n",
       "       [0., 0., 0.]])"
      ]
     },
     "execution_count": 26,
     "metadata": {},
     "output_type": "execute_result"
    }
   ],
   "source": [
    "arr - arr"
   ]
  },
  {
   "cell_type": "markdown",
   "id": "8e8f48a8-f93b-477c-af52-6217623c32e6",
   "metadata": {},
   "source": [
    "数组与标量的算术运算会将标量值`传播到各个元素`："
   ]
  },
  {
   "cell_type": "code",
   "execution_count": 27,
   "id": "2895b930-5383-4ad2-8e55-d395b58f69d7",
   "metadata": {},
   "outputs": [
    {
     "data": {
      "text/plain": [
       "array([[1.        , 0.5       , 0.33333333],\n",
       "       [0.25      , 0.2       , 0.16666667]])"
      ]
     },
     "execution_count": 27,
     "metadata": {},
     "output_type": "execute_result"
    }
   ],
   "source": [
    "1 / arr"
   ]
  },
  {
   "cell_type": "code",
   "execution_count": 28,
   "id": "f18c855d-7c22-4920-86a6-269a15face60",
   "metadata": {},
   "outputs": [
    {
     "data": {
      "text/plain": [
       "array([[1.        , 1.41421356, 1.73205081],\n",
       "       [2.        , 2.23606798, 2.44948974]])"
      ]
     },
     "execution_count": 28,
     "metadata": {},
     "output_type": "execute_result"
    }
   ],
   "source": [
    "arr ** 0.5 #开方"
   ]
  },
  {
   "cell_type": "code",
   "execution_count": 29,
   "id": "4184bf2d-19e3-43c7-a343-da7f9c4fa0a1",
   "metadata": {},
   "outputs": [
    {
     "data": {
      "text/plain": [
       "array([[ 1.,  4.,  9.],\n",
       "       [16., 25., 36.]])"
      ]
     },
     "execution_count": 29,
     "metadata": {},
     "output_type": "execute_result"
    }
   ],
   "source": [
    "arr ** 2 #平方"
   ]
  },
  {
   "cell_type": "markdown",
   "id": "0cbd2280-8101-48b0-8910-90247af564b9",
   "metadata": {},
   "source": [
    "大小相同的数组之间的比较会生成布尔值数组："
   ]
  },
  {
   "cell_type": "code",
   "execution_count": 30,
   "id": "cf89ef1b-79c6-48e0-9158-fefae8c90dec",
   "metadata": {},
   "outputs": [
    {
     "data": {
      "text/plain": [
       "array([[ 0.,  4.,  1.],\n",
       "       [ 7.,  2., 12.]])"
      ]
     },
     "execution_count": 30,
     "metadata": {},
     "output_type": "execute_result"
    }
   ],
   "source": [
    "arr2 = np.array([[0., 4., 1.], [7., 2., 12.]])\n",
    "arr2"
   ]
  },
  {
   "cell_type": "code",
   "execution_count": 31,
   "id": "1887350e-3e6f-42e4-be2d-952005074228",
   "metadata": {},
   "outputs": [
    {
     "data": {
      "text/plain": [
       "array([[False,  True, False],\n",
       "       [ True, False,  True]])"
      ]
     },
     "execution_count": 31,
     "metadata": {},
     "output_type": "execute_result"
    }
   ],
   "source": [
    "arr2 > arr"
   ]
  },
  {
   "cell_type": "markdown",
   "id": "faa7aa68-9af4-46d0-b669-d08a7bd34830",
   "metadata": {},
   "source": [
    "`不同大小的数组之间的运算叫做广播(broadcasting)`，将在附录A中对其进行详细讨论"
   ]
  },
  {
   "cell_type": "markdown",
   "id": "12bb1e8b-44f0-451e-8e07-49b308ed5716",
   "metadata": {},
   "source": [
    "## 基本的索引和切片\n",
    "NumPy数组的索引是一个内容丰富的主题，因为选取数据子集或单个元素的方式有很多。一维数组很简单。从表面上看，它们跟Python列表的功能差不多："
   ]
  },
  {
   "cell_type": "code",
   "execution_count": 32,
   "id": "6ea6b14e-7a50-436f-8adc-023b08d5fc93",
   "metadata": {
    "tags": []
   },
   "outputs": [
    {
     "data": {
      "text/plain": [
       "array([0, 1, 2, 3, 4, 5, 6, 7])"
      ]
     },
     "execution_count": 32,
     "metadata": {},
     "output_type": "execute_result"
    }
   ],
   "source": [
    "arr = np.arange(8)\n",
    "arr"
   ]
  },
  {
   "cell_type": "code",
   "execution_count": 33,
   "id": "d09e2d03-e8a2-4de5-a0e1-9ea7e6e36e6c",
   "metadata": {},
   "outputs": [
    {
     "data": {
      "text/plain": [
       "5"
      ]
     },
     "execution_count": 33,
     "metadata": {},
     "output_type": "execute_result"
    }
   ],
   "source": [
    "arr[5]"
   ]
  },
  {
   "cell_type": "code",
   "execution_count": 34,
   "id": "3fbac424-22fd-4ace-bacb-772aee863b19",
   "metadata": {},
   "outputs": [
    {
     "data": {
      "text/plain": [
       "array([5, 6, 7])"
      ]
     },
     "execution_count": 34,
     "metadata": {},
     "output_type": "execute_result"
    }
   ],
   "source": [
    "arr[5:8] # end不计入"
   ]
  },
  {
   "cell_type": "code",
   "execution_count": 35,
   "id": "048f13ba-7110-4817-985f-7529e8036ad4",
   "metadata": {},
   "outputs": [
    {
     "data": {
      "text/plain": [
       "array([ 0,  1,  2,  3,  4, 12, 12, 12])"
      ]
     },
     "execution_count": 35,
     "metadata": {},
     "output_type": "execute_result"
    }
   ],
   "source": [
    "arr[5:8] = 12 #赋值\n",
    "arr"
   ]
  },
  {
   "cell_type": "markdown",
   "id": "9f41957b-9ef9-4198-afe2-2b78e704bfdd",
   "metadata": {},
   "source": [
    "如上所示，当你将一个标量值赋值给一个切片时，该值会`广播`到整个选区。跟列表最重要的区别在于，数组切片是原始数组的`视图`。这意味着数据不会被复制，视图上的任何修改都会直接反映到源数组上。"
   ]
  },
  {
   "cell_type": "code",
   "execution_count": 36,
   "id": "4fe730e7-66fe-4c13-bbcd-8202c87cdf4d",
   "metadata": {},
   "outputs": [
    {
     "data": {
      "text/plain": [
       "array([12, 12, 12])"
      ]
     },
     "execution_count": 36,
     "metadata": {},
     "output_type": "execute_result"
    }
   ],
   "source": [
    "arr_slice = arr[5:8]\n",
    "arr_slice"
   ]
  },
  {
   "cell_type": "markdown",
   "id": "8717dd74-23a8-4ef2-be9e-ae52c8e65e32",
   "metadata": {},
   "source": [
    "当修改`arr_slice`中的值时，原始数组`arr`也会被修改："
   ]
  },
  {
   "cell_type": "code",
   "execution_count": 37,
   "id": "bb92e5f0-5bcb-4f20-950d-972f8b2148a9",
   "metadata": {},
   "outputs": [
    {
     "data": {
      "text/plain": [
       "array([  0,   1,   2,   3,   4,  12, 123,  12])"
      ]
     },
     "execution_count": 37,
     "metadata": {},
     "output_type": "execute_result"
    }
   ],
   "source": [
    "arr_slice[1] = 123 #按切片序号修改\n",
    "arr"
   ]
  },
  {
   "cell_type": "markdown",
   "id": "6bf809a9-42c4-4729-a320-66d266d658e8",
   "metadata": {},
   "source": [
    "切片`[ : ]`会给数组中的所有值赋值："
   ]
  },
  {
   "cell_type": "code",
   "execution_count": 38,
   "id": "bee196ca-596f-4f0c-af5b-de133df9c2c4",
   "metadata": {},
   "outputs": [
    {
     "data": {
      "text/plain": [
       "array([ 0,  1,  2,  3,  4, 64, 64, 64])"
      ]
     },
     "execution_count": 38,
     "metadata": {},
     "output_type": "execute_result"
    }
   ],
   "source": [
    "arr_slice[:] = 64\n",
    "arr"
   ]
  },
  {
   "cell_type": "markdown",
   "id": "b1bc776e-30f7-43b5-84e4-b034fc3e4a54",
   "metadata": {},
   "source": [
    "如果你刚开始接触NumPy，可能会对此感到惊讶（尤其是当你曾经用过其他热衷于复制数组数据的编程语言）。由于NumPy的设计目的是处理大数据，所以你可以想象一下，`假如NumPy坚持要将数据复制来复制去的话会产生何等的性能和内存问题。`\n",
    ">如果你想要得到的是ndarray切片的一份副本而非视图，就需要明确地进行复制操作`copy`，例如 arr[5:8].copy()"
   ]
  },
  {
   "cell_type": "markdown",
   "id": "2538058f-5385-4950-bc5c-62f7053d2fba",
   "metadata": {},
   "source": [
    "在一个二维数组中，各索引位置上的元素不再是标量而是一维数组："
   ]
  },
  {
   "cell_type": "code",
   "execution_count": 39,
   "id": "ec770639-5665-4a8f-9ff4-343f8189c9d4",
   "metadata": {},
   "outputs": [
    {
     "data": {
      "text/plain": [
       "array([7, 8, 9])"
      ]
     },
     "execution_count": 39,
     "metadata": {},
     "output_type": "execute_result"
    }
   ],
   "source": [
    "arr2d = np.array([[1, 2, 3], [4, 5, 6], [7, 8, 9]])\n",
    "arr2d[2]"
   ]
  },
  {
   "cell_type": "markdown",
   "id": "77d5ac4b-b8b4-44ec-8dd6-32a141e6c4ad",
   "metadata": {},
   "source": [
    "有两种方式可以对各个元素进行访问："
   ]
  },
  {
   "cell_type": "code",
   "execution_count": 40,
   "id": "9fd5d328-5191-4ba2-94da-ade68cacc275",
   "metadata": {},
   "outputs": [
    {
     "data": {
      "text/plain": [
       "3"
      ]
     },
     "execution_count": 40,
     "metadata": {},
     "output_type": "execute_result"
    }
   ],
   "source": [
    "arr2d[0][2]"
   ]
  },
  {
   "cell_type": "code",
   "execution_count": 41,
   "id": "fa17df7a-c19c-4ffa-8787-ac8a321f2dc0",
   "metadata": {},
   "outputs": [
    {
     "data": {
      "text/plain": [
       "3"
      ]
     },
     "execution_count": 41,
     "metadata": {},
     "output_type": "execute_result"
    }
   ],
   "source": [
    "arr2d[0, 2]"
   ]
  },
  {
   "cell_type": "markdown",
   "id": "80281fd6-0124-4ba9-b530-fc67b21c8a15",
   "metadata": {},
   "source": [
    "图4-1说明了二维数组的索引方式。`轴0作为行，轴1作为列`。"
   ]
  },
  {
   "cell_type": "markdown",
   "id": "917114af-dfa5-4b4d-ad1f-df72ecd48ee9",
   "metadata": {},
   "source": [
    "\n",
    "![](https://obsidian-swq.oss-cn-shanghai.aliyuncs.com/20220715230730.png)\n"
   ]
  },
  {
   "cell_type": "markdown",
   "id": "786a01f8-130f-4c99-a8aa-965267f86163",
   "metadata": {},
   "source": [
    "在多维数组中，如果省略了`前面的索引`，则返回对象会是一个维度低一点的ndarray（它含有高一级维度上的所有数据）。因此，在2×2×3数组arr3d中："
   ]
  },
  {
   "cell_type": "code",
   "execution_count": 42,
   "id": "534b71ea-7d04-4937-b9f7-de072cf83290",
   "metadata": {},
   "outputs": [
    {
     "name": "stdout",
     "output_type": "stream",
     "text": [
      "[[[ 1  2  3]\n",
      "  [ 4  5  6]]\n",
      "\n",
      " [[ 7  8  9]\n",
      "  [10 11 12]]]\n"
     ]
    }
   ],
   "source": [
    "arr3d = np.array([[[1, 2, 3], [4, 5, 6]], [[7, 8, 9], [10, 11, 12]]])\n",
    "print(arr3d)"
   ]
  },
  {
   "cell_type": "markdown",
   "id": "503c8906-c8d2-4d71-8338-f568f049a489",
   "metadata": {},
   "source": [
    "arr3d[0]是一个2×3数组，标量值和数组都可以被赋值给arr3d[0]：："
   ]
  },
  {
   "cell_type": "code",
   "execution_count": 43,
   "id": "27614081-b12f-47d9-93d1-7cb5fc055d4f",
   "metadata": {},
   "outputs": [
    {
     "name": "stdout",
     "output_type": "stream",
     "text": [
      "arr3d[0]:  [[1 2 3]\n",
      " [4 5 6]]\n",
      "arr3d:  [[[42 42 42]\n",
      "  [42 42 42]]\n",
      "\n",
      " [[ 7  8  9]\n",
      "  [10 11 12]]]\n",
      "arr3d:  [[[ 1  2  3]\n",
      "  [ 4  5  6]]\n",
      "\n",
      " [[ 7  8  9]\n",
      "  [10 11 12]]]\n"
     ]
    }
   ],
   "source": [
    "print('arr3d[0]: ',arr3d[0])\n",
    "old_values = arr3d[0].copy()\n",
    "arr3d[0] = 42 # 标量\n",
    "print('arr3d: ', arr3d)\n",
    "arr3d[0] = old_values # 数组\n",
    "print('arr3d: ', arr3d)"
   ]
  },
  {
   "cell_type": "markdown",
   "id": "4cb0d59b-f4cd-477a-97e6-9144bcf414cf",
   "metadata": {},
   "source": [
    "arr3d[1,0]可以访问索引以(1,0)开头的那些值（以一维数组的形式返回）："
   ]
  },
  {
   "cell_type": "code",
   "execution_count": 44,
   "id": "91c5151e-c7cb-4236-83af-51229f47227b",
   "metadata": {},
   "outputs": [
    {
     "data": {
      "text/plain": [
       "array([7, 8, 9])"
      ]
     },
     "execution_count": 44,
     "metadata": {},
     "output_type": "execute_result"
    }
   ],
   "source": [
    "arr3d[1, 0] # 第1页第0行的3列"
   ]
  },
  {
   "cell_type": "markdown",
   "id": "6bf504ff-4fd4-4773-8c3b-f8729c0c9524",
   "metadata": {},
   "source": [
    "分两步进行索引的结果是相同的："
   ]
  },
  {
   "cell_type": "code",
   "execution_count": 45,
   "id": "2f7984b2-9b4a-4689-8156-3b253ce2cad1",
   "metadata": {},
   "outputs": [
    {
     "data": {
      "text/plain": [
       "array([7, 8, 9])"
      ]
     },
     "execution_count": 45,
     "metadata": {},
     "output_type": "execute_result"
    }
   ],
   "source": [
    "x = arr3d[1]\n",
    "x[0]"
   ]
  },
  {
   "cell_type": "markdown",
   "id": "24717f25-bcd8-4f77-bdf1-4b445945f9be",
   "metadata": {},
   "source": [
    ">所有这些选取数组子集的例子中，返回的数组都是视图。"
   ]
  },
  {
   "cell_type": "markdown",
   "id": "c287f45f-dad8-4b52-8d20-472a4ae5229c",
   "metadata": {},
   "source": [
    "## 切片索引 \n",
    "`ndarray`一维对象的切片语法跟列表`List`的一维对象相同，`从0开始，区间左开右闭`。但是二维数组`arr2d`的切片方式不同："
   ]
  },
  {
   "cell_type": "code",
   "execution_count": 46,
   "id": "4dda35ed-9b3f-488f-8d5a-440608af8c3f",
   "metadata": {},
   "outputs": [
    {
     "data": {
      "text/plain": [
       "array([[1, 2, 3],\n",
       "       [4, 5, 6],\n",
       "       [7, 8, 9]])"
      ]
     },
     "execution_count": 46,
     "metadata": {},
     "output_type": "execute_result"
    }
   ],
   "source": [
    "arr2d"
   ]
  },
  {
   "cell_type": "markdown",
   "id": "180a8054-2068-477f-8e8b-e5e5bac907f0",
   "metadata": {},
   "source": [
    "二维数组的`axis=1, 行参数`可以省略，`axis=0, 列参数`不能省略。可以通过将整数索引和切片混合得到低维度的切片："
   ]
  },
  {
   "cell_type": "code",
   "execution_count": 47,
   "id": "4f52a3fe-fe2c-4943-9eda-6d945cc8df57",
   "metadata": {},
   "outputs": [
    {
     "data": {
      "text/plain": [
       "array([[1, 2, 3],\n",
       "       [4, 5, 6]])"
      ]
     },
     "execution_count": 47,
     "metadata": {},
     "output_type": "execute_result"
    }
   ],
   "source": [
    "arr2d[:2] # arr2d的前两行  "
   ]
  },
  {
   "cell_type": "code",
   "execution_count": 48,
   "id": "0545a814-8c37-4b6f-bccf-4be1c53a1091",
   "metadata": {},
   "outputs": [
    {
     "data": {
      "text/plain": [
       "array([[1, 2],\n",
       "       [4, 5],\n",
       "       [7, 8]])"
      ]
     },
     "execution_count": 48,
     "metadata": {},
     "output_type": "execute_result"
    }
   ],
   "source": [
    "arr2d[:,:2] # arr2d的前两列"
   ]
  },
  {
   "cell_type": "code",
   "execution_count": 49,
   "id": "8d72b221-f50d-406c-b224-7e1981dfa1e1",
   "metadata": {},
   "outputs": [
    {
     "data": {
      "text/plain": [
       "array([[1, 2],\n",
       "       [4, 5]])"
      ]
     },
     "execution_count": 49,
     "metadata": {},
     "output_type": "execute_result"
    }
   ],
   "source": [
    "arr2d[:2,:2] # arr2d的前两行中的前两列"
   ]
  },
  {
   "cell_type": "markdown",
   "id": "b5130be8-1134-430f-8559-80f9d34c2209",
   "metadata": {},
   "source": [
    "图4-2进行了说明。“只有冒号”表示选取整个轴，因此可以像图4-2对高维轴进行切片："
   ]
  },
  {
   "cell_type": "markdown",
   "id": "6640d39c-1695-48eb-895a-d098e11531dc",
   "metadata": {},
   "source": [
    "\n",
    "![](https://obsidian-swq.oss-cn-shanghai.aliyuncs.com/20220717135901.png)\n"
   ]
  },
  {
   "cell_type": "markdown",
   "id": "2fd7bd90-1cf3-436d-a177-d0af2c5f6114",
   "metadata": {},
   "source": [
    "对切片表达式的赋值操作也会被扩散到整个选区："
   ]
  },
  {
   "cell_type": "code",
   "execution_count": 52,
   "id": "b3aac652-d7a3-4d64-933c-98a03e5822b2",
   "metadata": {},
   "outputs": [
    {
     "data": {
      "text/plain": [
       "array([[1, 0, 0],\n",
       "       [4, 0, 0],\n",
       "       [7, 8, 9]])"
      ]
     },
     "execution_count": 52,
     "metadata": {},
     "output_type": "execute_result"
    }
   ],
   "source": [
    "arr2d[:2, 1:] = 0\n",
    "arr2d"
   ]
  },
  {
   "cell_type": "markdown",
   "id": "d6cabc48-8cc8-4f39-8af6-6196f2272986",
   "metadata": {},
   "source": [
    "## 布尔型索引\n",
    "假设我们有一个`存储姓名的数组`（含有重复项）以及一个用于`存储数据的数组`。使用`numpy.random`中的`randn`函数生成一些正态分布的随机数据举例说明："
   ]
  },
  {
   "cell_type": "code",
   "execution_count": 54,
   "id": "5232a72d-dd4b-4c22-911e-e11f7d196533",
   "metadata": {},
   "outputs": [
    {
     "data": {
      "text/plain": [
       "array(['Bob', 'Joe', 'Will', 'Bob', 'Will', 'Joe', 'Joe'], dtype='<U4')"
      ]
     },
     "execution_count": 54,
     "metadata": {},
     "output_type": "execute_result"
    }
   ],
   "source": [
    "names = np.array(['Bob', 'Joe', 'Will', 'Bob', 'Will', 'Joe', 'Joe'])\n",
    "data = np.random.randn(7, 4)\n",
    "names"
   ]
  },
  {
   "cell_type": "code",
   "execution_count": 55,
   "id": "7c6efed7-294f-47ea-a0c7-bb7b8af3bc30",
   "metadata": {},
   "outputs": [
    {
     "data": {
      "text/plain": [
       "array([[ 8.52174088e-01, -9.52256967e-01, -1.19780602e+00,\n",
       "         4.92972788e-01],\n",
       "       [ 2.04844713e-01, -3.02555636e-01, -5.03005189e-01,\n",
       "        -1.51315043e+00],\n",
       "       [-6.46327014e-01, -1.16718875e+00, -1.69156426e-03,\n",
       "        -6.13742278e-02],\n",
       "       [-1.69664289e-01, -5.96638117e-01,  9.40319349e-01,\n",
       "         3.22369818e+00],\n",
       "       [ 9.50346846e-02,  4.90365230e-02, -1.25160558e+00,\n",
       "         2.17134969e-01],\n",
       "       [-6.80246233e-01, -1.02528233e+00,  5.09364574e-01,\n",
       "        -6.60654112e-01],\n",
       "       [ 2.83980088e-01,  2.57031401e-01,  4.45520928e-01,\n",
       "        -3.67659315e-01]])"
      ]
     },
     "execution_count": 55,
     "metadata": {},
     "output_type": "execute_result"
    }
   ],
   "source": [
    "data"
   ]
  },
  {
   "cell_type": "markdown",
   "id": "91c17e2a-e946-4526-b275-33f6bb4f9e1c",
   "metadata": {},
   "source": [
    "`names`数组中的每个名字都对应`data`数组中的一行，用比较运算`==`可以对数组进行矢量运算。即`names`和字符串`Bob`比较运算得到一个布尔数组，表示`names`中元素为`Bob`的位置："
   ]
  },
  {
   "cell_type": "code",
   "execution_count": 66,
   "id": "a9b44372-a04a-49dc-a65b-b6b463ea2bd5",
   "metadata": {},
   "outputs": [
    {
     "data": {
      "text/plain": [
       "dtype('bool')"
      ]
     },
     "execution_count": 66,
     "metadata": {},
     "output_type": "execute_result"
    }
   ],
   "source": [
    "bool_names = (names == 'Bob')\n",
    "bool_names.dtype"
   ]
  },
  {
   "cell_type": "markdown",
   "id": "9973e57e-d114-48f9-88db-54718304f346",
   "metadata": {},
   "source": [
    "`布尔型数组的长度必须跟被索引的轴长度一致`，可以将布尔型数组跟切片、整数混合使用：\n",
    "> 注意：如果布尔型数组的长度不对，布尔型选择就会出错，因此一定要小心。"
   ]
  },
  {
   "cell_type": "code",
   "execution_count": 68,
   "id": "7d750d5d-f8e9-4322-b5f7-b5c59401f163",
   "metadata": {},
   "outputs": [
    {
     "data": {
      "text/plain": [
       "array([[-1.19780602,  0.49297279],\n",
       "       [ 0.94031935,  3.22369818]])"
      ]
     },
     "execution_count": 68,
     "metadata": {},
     "output_type": "execute_result"
    }
   ],
   "source": [
    "data[names == 'Bob', 2:]"
   ]
  },
  {
   "cell_type": "markdown",
   "id": "4909cce9-1b80-44ea-b969-d4d8fa369c03",
   "metadata": {},
   "source": [
    "要选择除\"Bob\"以外的其他值，既可以使用不等于符号（!=），也可以通过~对条件进行否定："
   ]
  },
  {
   "cell_type": "code",
   "execution_count": 71,
   "id": "6f4dec54-487c-4b81-8dab-d1247c9b15a2",
   "metadata": {},
   "outputs": [
    {
     "data": {
      "text/plain": [
       "array([False,  True,  True, False,  True,  True,  True])"
      ]
     },
     "execution_count": 71,
     "metadata": {},
     "output_type": "execute_result"
    }
   ],
   "source": [
    "names != 'Bob'"
   ]
  },
  {
   "cell_type": "code",
   "execution_count": 73,
   "id": "73e45056-f802-4426-b5a8-e51c624d44c5",
   "metadata": {},
   "outputs": [
    {
     "data": {
      "text/plain": [
       "array([[ 0.20484471, -0.30255564, -0.50300519, -1.51315043],\n",
       "       [-0.64632701, -1.16718875, -0.00169156, -0.06137423],\n",
       "       [ 0.09503468,  0.04903652, -1.25160558,  0.21713497],\n",
       "       [-0.68024623, -1.02528233,  0.50936457, -0.66065411],\n",
       "       [ 0.28398009,  0.2570314 ,  0.44552093, -0.36765932]])"
      ]
     },
     "execution_count": 73,
     "metadata": {},
     "output_type": "execute_result"
    }
   ],
   "source": [
    "cond = names == 'Bob'\n",
    "data[~cond]"
   ]
  },
  {
   "cell_type": "markdown",
   "id": "a8cabab2-becf-4e44-ae47-4ba598e61063",
   "metadata": {},
   "source": [
    "可以使用`&（和）、|（或）`等布尔算术运算符，进行布尔条件组合选择名字："
   ]
  },
  {
   "cell_type": "code",
   "execution_count": 76,
   "id": "462c1945-58bc-4de3-b120-304ff40e91d6",
   "metadata": {},
   "outputs": [
    {
     "data": {
      "text/plain": [
       "array([[ 8.52174088e-01, -9.52256967e-01, -1.19780602e+00,\n",
       "         4.92972788e-01],\n",
       "       [-6.46327014e-01, -1.16718875e+00, -1.69156426e-03,\n",
       "        -6.13742278e-02],\n",
       "       [-1.69664289e-01, -5.96638117e-01,  9.40319349e-01,\n",
       "         3.22369818e+00],\n",
       "       [ 9.50346846e-02,  4.90365230e-02, -1.25160558e+00,\n",
       "         2.17134969e-01]])"
      ]
     },
     "execution_count": 76,
     "metadata": {},
     "output_type": "execute_result"
    }
   ],
   "source": [
    "mask = (names == 'Bob') | (names == 'Will')\n",
    "data[mask]"
   ]
  },
  {
   "cell_type": "markdown",
   "id": "41f1aa88-4353-4f52-adbe-1dac72697db0",
   "metadata": {},
   "source": [
    "通过布尔型索引选取数组中的数据，创建的都是数据的副本。\n",
    ">注意：Python关键字and和or在布尔型数组中无效。要使用&与|。\n",
    "\n",
    "通过布尔型数组设置值是一种经常用到的手段。为了将data中的所有负值都设置为0，我们只需："
   ]
  },
  {
   "cell_type": "code",
   "execution_count": 79,
   "id": "c94bb452-8c29-4411-b43d-48b27ae02fed",
   "metadata": {},
   "outputs": [
    {
     "data": {
      "text/plain": [
       "array([[0.85217409, 0.        , 0.        , 0.49297279],\n",
       "       [0.20484471, 0.        , 0.        , 0.        ],\n",
       "       [0.        , 0.        , 0.        , 0.        ],\n",
       "       [0.        , 0.        , 0.94031935, 3.22369818],\n",
       "       [0.09503468, 0.04903652, 0.        , 0.21713497],\n",
       "       [0.        , 0.        , 0.50936457, 0.        ],\n",
       "       [0.28398009, 0.2570314 , 0.44552093, 0.        ]])"
      ]
     },
     "execution_count": 79,
     "metadata": {},
     "output_type": "execute_result"
    }
   ],
   "source": [
    "data[data < 0] = 0\n",
    "data"
   ]
  },
  {
   "cell_type": "markdown",
   "id": "5aa82880-59dc-4328-b58c-414f58b5090a",
   "metadata": {},
   "source": [
    "通过一维布尔数组设置整行或列的值也很简单："
   ]
  },
  {
   "cell_type": "code",
   "execution_count": 81,
   "id": "05517857-0e2c-4739-bfb6-197636fdbb4d",
   "metadata": {},
   "outputs": [
    {
     "data": {
      "text/plain": [
       "array([[7.        , 7.        , 7.        , 7.        ],\n",
       "       [0.20484471, 0.        , 0.        , 0.        ],\n",
       "       [7.        , 7.        , 7.        , 7.        ],\n",
       "       [7.        , 7.        , 7.        , 7.        ],\n",
       "       [7.        , 7.        , 7.        , 7.        ],\n",
       "       [0.        , 0.        , 0.50936457, 0.        ],\n",
       "       [0.28398009, 0.2570314 , 0.44552093, 0.        ]])"
      ]
     },
     "execution_count": 81,
     "metadata": {},
     "output_type": "execute_result"
    }
   ],
   "source": [
    "data[names != 'Joe'] = 7\n",
    "data"
   ]
  },
  {
   "cell_type": "markdown",
   "id": "e28ffb16-3a1c-4139-9a14-3a6e4bd4a5fa",
   "metadata": {},
   "source": [
    "## 花式索引\n",
    "花式索引（Fancy indexing）指的是NumPy中利用整数数组进行索引。假设有一个8×4数组："
   ]
  },
  {
   "cell_type": "code",
   "execution_count": 88,
   "id": "92af2d28-b2c1-4739-9546-8ba4b9ca5fa0",
   "metadata": {},
   "outputs": [
    {
     "data": {
      "text/plain": [
       "array([[0., 0., 0., 0.],\n",
       "       [1., 1., 1., 1.],\n",
       "       [2., 2., 2., 2.],\n",
       "       [3., 3., 3., 3.],\n",
       "       [4., 4., 4., 4.],\n",
       "       [5., 5., 5., 5.],\n",
       "       [6., 6., 6., 6.],\n",
       "       [7., 7., 7., 7.]])"
      ]
     },
     "execution_count": 88,
     "metadata": {},
     "output_type": "execute_result"
    }
   ],
   "source": [
    "arr = np.empty((8, 4))\n",
    "for i in range(8):\n",
    "    arr[i] = i # 对i行赋值\n",
    "arr"
   ]
  },
  {
   "cell_type": "markdown",
   "id": "b77675fe-a1c7-49cd-9923-e759bc3c2001",
   "metadata": {},
   "source": [
    "为了以特定顺序选取行子集，只需传入一个用于指定顺序的整数列表或ndarray即可："
   ]
  },
  {
   "cell_type": "code",
   "execution_count": 87,
   "id": "b4bab1fe-6e04-4661-baf9-4769618de98a",
   "metadata": {},
   "outputs": [
    {
     "data": {
      "text/plain": [
       "array([[4., 4., 4., 4.],\n",
       "       [5., 5., 5., 5.],\n",
       "       [7., 7., 7., 7.]])"
      ]
     },
     "execution_count": 87,
     "metadata": {},
     "output_type": "execute_result"
    }
   ],
   "source": [
    "arr[[4, -3, 7]] # 负数索引从末尾选取行"
   ]
  },
  {
   "cell_type": "markdown",
   "id": "811f47a0-4927-4797-bf60-6988ad11f57d",
   "metadata": {},
   "source": [
    "向ndarray传入多个索引数组，返回一个一维数组，由各维度索引组合得到的元素组成："
   ]
  },
  {
   "cell_type": "code",
   "execution_count": 100,
   "id": "24dfbc50-316e-401f-b93d-74bfc268bbad",
   "metadata": {},
   "outputs": [
    {
     "data": {
      "text/plain": [
       "array([[ 0,  1,  2,  3],\n",
       "       [ 4,  5,  6,  7],\n",
       "       [ 8,  9, 10, 11],\n",
       "       [12, 13, 14, 15],\n",
       "       [16, 17, 18, 19],\n",
       "       [20, 21, 22, 23],\n",
       "       [24, 25, 26, 27],\n",
       "       [28, 29, 30, 31]])"
      ]
     },
     "execution_count": 100,
     "metadata": {},
     "output_type": "execute_result"
    }
   ],
   "source": [
    "arr = np.arange(32).reshape((8, 4)) # 生成1维序列，再用reshape转为矩阵\n",
    "arr"
   ]
  },
  {
   "cell_type": "code",
   "execution_count": 101,
   "id": "521e8395-dcff-46b5-b2b4-30cfe7c1ed69",
   "metadata": {},
   "outputs": [
    {
     "data": {
      "text/plain": [
       "array([ 4, 23, 29, 10])"
      ]
     },
     "execution_count": 101,
     "metadata": {},
     "output_type": "execute_result"
    }
   ],
   "source": [
    "arr[[1, 5, 7, 2],[0, 3, 1, 2]] # arr[1][0], arr[5][3], arr[7][1], arr[2][2]"
   ]
  },
  {
   "cell_type": "code",
   "execution_count": 104,
   "id": "55b8eb5d-d306-4d3d-8edd-bd5d2c8853bd",
   "metadata": {},
   "outputs": [
    {
     "data": {
      "text/plain": [
       "array([[ 4,  5,  6,  7],\n",
       "       [20, 21, 22, 23],\n",
       "       [28, 29, 30, 31],\n",
       "       [ 8,  9, 10, 11]])"
      ]
     },
     "execution_count": 104,
     "metadata": {},
     "output_type": "execute_result"
    }
   ],
   "source": [
    "arr[[1, 5, 7, 2]][:] # 该行所有列"
   ]
  },
  {
   "cell_type": "code",
   "execution_count": 106,
   "id": "50785648-d069-4469-aece-a81d80bfab2c",
   "metadata": {},
   "outputs": [
    {
     "data": {
      "text/plain": [
       "array([[ 4,  7,  5,  6],\n",
       "       [20, 23, 21, 22],\n",
       "       [28, 31, 29, 30],\n",
       "       [ 8, 11,  9, 10]])"
      ]
     },
     "execution_count": 106,
     "metadata": {},
     "output_type": "execute_result"
    }
   ],
   "source": [
    "arr[[1, 5, 7, 2]][:, [0, 3, 1, 2]]"
   ]
  },
  {
   "cell_type": "markdown",
   "id": "8db9059a-b59f-4406-84d5-2e5f6bbd1795",
   "metadata": {},
   "source": [
    "## 数组转置和轴对换\n",
    "转置是重塑的一种特殊形式，它返回的是源数据的视图（不会进行任何复制操作）。数组不仅有transpose方法，还有一个特殊的T属性："
   ]
  },
  {
   "cell_type": "code",
   "execution_count": 107,
   "id": "e5517705-9117-4def-86fc-759cb71bcc6c",
   "metadata": {},
   "outputs": [
    {
     "data": {
      "text/plain": [
       "array([[ 0,  1,  2,  3,  4],\n",
       "       [ 5,  6,  7,  8,  9],\n",
       "       [10, 11, 12, 13, 14]])"
      ]
     },
     "execution_count": 107,
     "metadata": {},
     "output_type": "execute_result"
    }
   ],
   "source": [
    "arr = np.arange(15).reshape((3, 5))\n",
    "arr"
   ]
  },
  {
   "cell_type": "code",
   "execution_count": 108,
   "id": "c5a0d059-67e2-46df-9613-95c80668cfc2",
   "metadata": {},
   "outputs": [
    {
     "data": {
      "text/plain": [
       "array([[ 0,  5, 10],\n",
       "       [ 1,  6, 11],\n",
       "       [ 2,  7, 12],\n",
       "       [ 3,  8, 13],\n",
       "       [ 4,  9, 14]])"
      ]
     },
     "execution_count": 108,
     "metadata": {},
     "output_type": "execute_result"
    }
   ],
   "source": [
    "arr.T"
   ]
  },
  {
   "cell_type": "markdown",
   "id": "3861ebb2-ae5b-48fc-b316-450ce6bf6d31",
   "metadata": {},
   "source": [
    "## 计算内积"
   ]
  },
  {
   "cell_type": "code",
   "execution_count": 109,
   "id": "18f59e24-5639-4e63-92e5-e2afa60cb7b5",
   "metadata": {},
   "outputs": [
    {
     "data": {
      "text/plain": [
       "array([[-0.11087634,  0.02651942, -0.14913416],\n",
       "       [-1.09739488, -0.31422639,  0.09705514],\n",
       "       [ 0.76254459,  0.28283414, -0.41610515],\n",
       "       [ 2.17479099, -0.69448947,  2.09839009],\n",
       "       [ 1.41483605,  0.89692717, -0.03413939],\n",
       "       [-0.23191047, -1.44307959, -0.97903645]])"
      ]
     },
     "execution_count": 109,
     "metadata": {},
     "output_type": "execute_result"
    }
   ],
   "source": [
    "arr = np.random.randn(6, 3)\n",
    "arr"
   ]
  },
  {
   "cell_type": "code",
   "execution_count": 110,
   "id": "476bded3-e176-47d8-b2c0-6e0389ea66df",
   "metadata": {},
   "outputs": [
    {
     "data": {
      "text/plain": [
       "array([[ 8.58330271,  0.6508644 ,  4.33503594],\n",
       "       [ 0.6508644 ,  3.54870934, -0.22724383],\n",
       "       [ 4.33503594, -0.22724383,  5.56772302]])"
      ]
     },
     "execution_count": 110,
     "metadata": {},
     "output_type": "execute_result"
    }
   ],
   "source": [
    "np.dot(arr.T, arr)"
   ]
  },
  {
   "cell_type": "markdown",
   "id": "113ce5b1-7093-4647-b9db-cb5560c761eb",
   "metadata": {},
   "source": [
    "对于高维数组，transpose需要得到一个由轴编号组成的元组才能对这些轴进行转置（比较费脑子）："
   ]
  },
  {
   "cell_type": "markdown",
   "id": "58c7cd88-5cf3-4972-8c16-a5757c3f5d3a",
   "metadata": {},
   "source": [
    "## transpose()"
   ]
  },
  {
   "cell_type": "code",
   "execution_count": 116,
   "id": "2845328c-79ad-4add-8a1c-419ec112bdc6",
   "metadata": {},
   "outputs": [
    {
     "data": {
      "text/plain": [
       "array([[[255, 255, 255],\n",
       "        [255,   0,   0]],\n",
       "\n",
       "       [[  0, 255,   0],\n",
       "        [  0,   0, 255]]])"
      ]
     },
     "execution_count": 116,
     "metadata": {},
     "output_type": "execute_result"
    }
   ],
   "source": [
    "arr = np.array([255, 255, 255, 255, 0, 0, 0, 255,\n",
    "                0, 0, 0, 255]).reshape(2, 2, -1)\n",
    "arr"
   ]
  },
  {
   "cell_type": "code",
   "execution_count": null,
   "id": "008daac6-cd4a-4a00-858c-46d5e6bb9a85",
   "metadata": {},
   "outputs": [],
   "source": []
  },
  {
   "cell_type": "code",
   "execution_count": null,
   "id": "de0a7ec8-da69-4a0b-8549-84b6da829459",
   "metadata": {},
   "outputs": [],
   "source": []
  },
  {
   "cell_type": "code",
   "execution_count": null,
   "id": "59d24d53-ee3d-4220-aad6-c94f4d144bfd",
   "metadata": {},
   "outputs": [],
   "source": []
  },
  {
   "cell_type": "code",
   "execution_count": null,
   "id": "8d59566a-8074-4d21-a63c-8c4889e98f3d",
   "metadata": {},
   "outputs": [],
   "source": []
  },
  {
   "cell_type": "code",
   "execution_count": null,
   "id": "eab09113-850f-41e8-b780-818dc9ecd5f6",
   "metadata": {},
   "outputs": [],
   "source": []
  }
 ],
 "metadata": {
  "kernelspec": {
   "display_name": "Python 3 (ipykernel)",
   "language": "python",
   "name": "python3"
  },
  "language_info": {
   "codemirror_mode": {
    "name": "ipython",
    "version": 3
   },
   "file_extension": ".py",
   "mimetype": "text/x-python",
   "name": "python",
   "nbconvert_exporter": "python",
   "pygments_lexer": "ipython3",
   "version": "3.9.13"
  }
 },
 "nbformat": 4,
 "nbformat_minor": 5
}
